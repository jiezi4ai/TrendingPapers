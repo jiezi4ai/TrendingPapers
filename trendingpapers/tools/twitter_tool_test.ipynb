{
 "cells": [
  {
   "cell_type": "markdown",
   "metadata": {},
   "source": [
    "# Get Paper Related Tweets Info"
   ]
  },
  {
   "cell_type": "markdown",
   "metadata": {},
   "source": [
    "## Helper Function"
   ]
  },
  {
   "cell_type": "code",
   "execution_count": 4,
   "metadata": {},
   "outputs": [],
   "source": [
    "from fp.fp import FreeProxy  # pip install free-proxy https://github.com/jundymek/free-proxy"
   ]
  },
  {
   "cell_type": "code",
   "execution_count": 5,
   "metadata": {},
   "outputs": [],
   "source": [
    "def gen_proxy_list(timeout=5, google_enable=False, anonym=False, filtered=False, https=False):\n",
    "    return FreeProxy(\n",
    "        timeout=timeout, \n",
    "        google=google_enable, \n",
    "        anonym=anonym,\n",
    "        elite=filtered,\n",
    "        https=https,\n",
    "        rand=True).get_proxy_list(repeat=True)"
   ]
  },
  {
   "cell_type": "code",
   "execution_count": 6,
   "metadata": {},
   "outputs": [],
   "source": [
    "http_proxies = gen_proxy_list()"
   ]
  },
  {
   "cell_type": "code",
   "execution_count": 7,
   "metadata": {},
   "outputs": [],
   "source": [
    "followed_accts = [\"fly51fly\",  # 爱可可\n",
    "    \"rohanpaul_ai\",   # tweets on ai papers often\n",
    "    \"TheTuringPost\",  # Turing Post from https://www.turingpost.com/\n",
    "    \"dair_ai\",  # ML Papers of the Week\n",
    "    \"omarsar0\"]"
   ]
  },
  {
   "cell_type": "markdown",
   "metadata": {},
   "source": [
    "## Search for Tweets ID"
   ]
  },
  {
   "cell_type": "markdown",
   "metadata": {},
   "source": [
    "Twitter has a strict restriction of API access to its data. Here is a walk-around approach:\n",
    "- first get tweets urls and basic informations (with uid, tweet id, etc) by searching in Google;\n",
    "- then directly get tweets data using the uid and tweet id"
   ]
  },
  {
   "cell_type": "code",
   "execution_count": 13,
   "metadata": {},
   "outputs": [],
   "source": [
    "import time\n",
    "import random\n",
    "import requests\n",
    "import pandas as pd\n",
    "from datetime import datetime\n",
    "from typing import Dict, List, Optional\n",
    "import yagooglesearch  # https://github.com/opsdisk/yagooglesearch\n",
    "\n",
    "import logging\n",
    "logging.basicConfig(level=logging.INFO, format='%(asctime)s - %(levelname)s - %(message)s')\n",
    "\n",
    "MAX_RESULTS = 100\n",
    "MAX_RETRIES = 5\n",
    "RETRY_DELAY_SECONDS = 3  # Define retry delay as a constant\n",
    "# X_RETRIEVE_URL = \"https://xapi.betaco.tech/x-thread-api?url=\" # Remove if unused\n",
    "USER_AGENTS = [\n",
    "    'Mozilla/5.0 (Windows NT 10.0; Win64; x64; rv:66.0) Gecko/20100101 Firefox/66.0',\n",
    "    'Mozilla/5.0 (Windows NT 10.0; Win64; x64) AppleWebKit/537.36 (KHTML, like Gecko) Chrome/111.0.0.0 Safari/537.36',\n",
    "    'Mozilla/5.0 (Macintosh; Intel Mac OS X 10_15_7) AppleWebKit/537.36 (KHTML, like Gecko) Chrome/111.0.0.0 Safari/537.36',\n",
    "    'Mozilla/5.0 (Windows NT 10.0; Win64; x64) AppleWebKit/537.36 (KHTML, like Gecko) Chrome/109.0.0.0 Safari/537.36',\n",
    "    'Mozilla/5.0 (X11; Linux x86_64) AppleWebKit/537.36 (KHTML, like Gecko) Chrome/111.0.0.0 Safari/537.36',\n",
    "    'Mozilla/5.0 (Windows NT 10.0; Win64; x64) AppleWebKit/537.36 (KHTML, like Gecko) Chrome/111.0.0.0 Safari/537.36 Edg/111.0.1661.62',\n",
    "    'Mozilla/5.0 (Windows NT 10.0; Win64; x64; rv:109.0) Gecko/20100101 Firefox/111.0'\n",
    "]\n",
    "\n",
    "class WebSearch:\n",
    "    \"\"\"\n",
    "    A class for performing web searches, primarily using Google, with proxy support and retry mechanisms.\n",
    "    \"\"\"\n",
    "    def __init__(\n",
    "            self,\n",
    "            proxies: Optional[List[str]] = None,\n",
    "            max_results: int = MAX_RESULTS,\n",
    "            max_retries: int = MAX_RETRIES):\n",
    "        \"\"\"\n",
    "        Initializes the WebSearch class.\n",
    "\n",
    "        Args:\n",
    "            proxies (Optional[List[str]]): A list of proxy servers to use (e.g., ['http://proxy1:port', 'http://proxy2:port']). Defaults to None (no proxies).\n",
    "            max_results (int): Maximum number of search results to retrieve per query. Defaults to MAX_RESULTS.\n",
    "            max_retries (int): Maximum number of retries for proxy connections. Defaults to MAX_RETRIES.\n",
    "        \"\"\"\n",
    "        self.proxies = proxies if proxies else [] # Ensure proxies is always a list\n",
    "        self.max_results = max_results\n",
    "        self.max_retries = max_retries\n",
    "        self.proxy_pool = self.proxies.copy() # Create a proxy pool to avoid modifying original list during retries\n",
    "\n",
    "\n",
    "    def google_w_proxies(self, query: str, max_results: Optional[int] = None) -> List[Dict[str, str]]:\n",
    "        \"\"\"Search google with proxies.\n",
    "\n",
    "        Args:\n",
    "            query (str): Search query.\n",
    "            max_results (Optional[int]): Maximum number of search results to retrieve. Defaults to class's max_results.\n",
    "\n",
    "        Returns:\n",
    "            List[Dict[str, str]]: Query results in list of dict format.\n",
    "            Each dict contains: {\"rank\": str, \"title\": str, \"description\": str, \"url\": str}\n",
    "            Returns an empty list if no results are found or all retries fail.\n",
    "        \"\"\"\n",
    "        error_count = 0\n",
    "        results = [] # Initialize results as empty list\n",
    "\n",
    "        client = yagooglesearch.SearchClient(\n",
    "            query,\n",
    "            tbs=\"li:1\",\n",
    "            max_search_result_urls_to_return=max_results if max_results else self.max_results,\n",
    "            verbosity=0, # Reduced verbosity for cleaner output, can increase for debugging\n",
    "            yagooglesearch_manages_http_429s=False,  # Disable automatic 429 handling for custom logic\n",
    "            verify_ssl=True, # Re-enable SSL verification for security\n",
    "            verbose_output=True,\n",
    "        )\n",
    "\n",
    "        if self.proxy_pool: # Use proxy_pool instead of self.proxies\n",
    "            while error_count < self.max_retries and self.proxy_pool: # Retry while proxies are available\n",
    "                proxy = random.choice(self.proxy_pool) # Random proxy selection from pool\n",
    "                try:\n",
    "                    client.assign_random_user_agent()\n",
    "                    client.proxy_dict = {'http': proxy} # Only http proxy supported for now\n",
    "                    search_results = client.search()\n",
    "\n",
    "                    # Robust HTTP 429 detection (if yagooglesearch exposes status codes, use that)\n",
    "                    if search_results and \"HTTP_429_DETECTED\" in search_results: # Example string check, replace with status code check if possible\n",
    "                        error_count += 1\n",
    "                        logging.warning(f\"Proxy {proxy} returned 429. Retrying with a different proxy.\")\n",
    "                        self.proxy_pool.remove(proxy) # Consider removing proxy on 429, or implement health check\n",
    "                        time.sleep(RETRY_DELAY_SECONDS)\n",
    "                        continue # Try next proxy\n",
    "\n",
    "                    elif search_results:\n",
    "                        logging.info(f\"Search successful using proxy: {proxy}\")\n",
    "                        return search_results # Return results on success\n",
    "\n",
    "                except requests.exceptions.RequestException as e: # Catch specific request exceptions\n",
    "                    error_count += 1\n",
    "                    logging.error(f\"Request error with proxy {proxy}: {e}\")\n",
    "                    if proxy in self.proxy_pool: # Ensure proxy is still in pool before attempting removal\n",
    "                        self.proxy_pool.remove(proxy) # Consider removing proxy on general request exception\n",
    "                    logging.info(f\"Retrying with a different proxy. Remaining proxies: {len(self.proxy_pool)}\")\n",
    "                    time.sleep(RETRY_DELAY_SECONDS)\n",
    "                    continue # Try next proxy\n",
    "                \n",
    "                except Exception as e: # Catch other potential exceptions from yagooglesearch\n",
    "                    error_count += 1\n",
    "                    logging.error(f\"Unexpected error during search with proxy {proxy}: {e}\")\n",
    "                    logging.info(f\"Retrying without proxy or ending search.\") # Decide how to handle unexpected errors\n",
    "                    break # For unexpected errors, break out of proxy loop, potentially try without proxy or just fail\n",
    "\n",
    "            if not results and self.proxy_pool: # Log if proxies are exhausted\n",
    "                logging.warning(\"All proxies failed or exhausted. Falling back to search without proxy if possible.\")\n",
    "\n",
    "\n",
    "        logging.info(\"Searching without proxy.\") # Log when searching without proxy\n",
    "        client.assign_random_user_agent()\n",
    "        try:\n",
    "            results = client.search() # Try search without proxy\n",
    "            return results\n",
    "        except Exception as e:\n",
    "            logging.error(f\"Search without proxy failed: {e}\")\n",
    "            return [] # Return empty list if even proxy-less search fails"
   ]
  },
  {
   "cell_type": "code",
   "execution_count": 14,
   "metadata": {},
   "outputs": [],
   "source": [
    "import datetime\n",
    "\n",
    "current_dt = datetime.datetime.today()\n",
    "after = (current_dt + datetime.timedelta(days=-3)).strftime('%Y-%m-%d')  # three days period"
   ]
  },
  {
   "cell_type": "code",
   "execution_count": 15,
   "metadata": {},
   "outputs": [],
   "source": [
    "google = WebSearch(proxies=http_proxies)"
   ]
  },
  {
   "cell_type": "code",
   "execution_count": 16,
   "metadata": {},
   "outputs": [
    {
     "name": "stdout",
     "output_type": "stream",
     "text": [
      "fly51fly on x site:x.com after:2025-02-23\n"
     ]
    },
    {
     "name": "stderr",
     "output_type": "stream",
     "text": [
      "2025-02-26 22:34:47,901 - INFO - Search successful using proxy: 38.54.71.67:80\n"
     ]
    },
    {
     "name": "stdout",
     "output_type": "stream",
     "text": [
      "rohanpaul_ai on x site:x.com after:2025-02-23\n"
     ]
    },
    {
     "name": "stderr",
     "output_type": "stream",
     "text": [
      "2025-02-26 22:34:55,506 - INFO - Search successful using proxy: 54.67.125.45:3128\n"
     ]
    },
    {
     "name": "stdout",
     "output_type": "stream",
     "text": [
      "TheTuringPost on x site:x.com after:2025-02-23\n"
     ]
    },
    {
     "name": "stderr",
     "output_type": "stream",
     "text": [
      "2025-02-26 22:35:06,033 - INFO - Search successful using proxy: 200.60.145.167:8081\n"
     ]
    },
    {
     "name": "stdout",
     "output_type": "stream",
     "text": [
      "dair_ai on x site:x.com after:2025-02-23\n"
     ]
    },
    {
     "name": "stderr",
     "output_type": "stream",
     "text": [
      "2025-02-26 22:35:21,762 - INFO - Search successful using proxy: 50.169.37.50:80\n"
     ]
    },
    {
     "name": "stdout",
     "output_type": "stream",
     "text": [
      "omarsar0 on x site:x.com after:2025-02-23\n"
     ]
    },
    {
     "name": "stderr",
     "output_type": "stream",
     "text": [
      "2025-02-26 22:35:28,837 - INFO - Search successful using proxy: 116.203.139.209:5678\n"
     ]
    }
   ],
   "source": [
    "import re\n",
    "import time\n",
    "\n",
    "all_results = []\n",
    "for screen_nm in followed_accts:\n",
    "    query = f\"{screen_nm} on x site:x.com after:{after}\"\n",
    "    print(query)\n",
    "    results = google.google_w_proxies(query, 20)\n",
    "    all_results.append(results)\n",
    "    time.sleep(5)\n",
    "    "
   ]
  },
  {
   "cell_type": "markdown",
   "metadata": {},
   "source": [
    "## Twitter Data Retrieval"
   ]
  },
  {
   "cell_type": "code",
   "execution_count": 25,
   "metadata": {},
   "outputs": [],
   "source": [
    "import copy\n",
    "import time\n",
    "import datetime\n",
    "import requests\n",
    "from typing import Dict, List, Optional, Set, Tuple\n",
    "\n",
    "from tweeterpy import TweeterPy  #   pip install tweeterpy https://github.com/iSarabjitDhiman/TweeterPy\n",
    "from tweeterpy.util import RateLimitError\n",
    "\n",
    "# Configure logging\n",
    "import logging\n",
    "logging.basicConfig(level=logging.INFO, format='%(asctime)s - %(levelname)s - %(message)s')\n",
    "\n",
    "MAX_RETRIES = 5\n",
    "BACKOFF_FACTOR = 0.5\n",
    "DEFAULT_REMAINING_REQUESTS_THRESHOLD = 20 # Define constant for magic number\n",
    "\n",
    "ACCOUNT_KEY_MAPPING = {\n",
    "    'profile_image_url_https': 'profile_image_url',\n",
    "    'pinned_tweet_ids_str': 'pinned_tweet_ids',\n",
    "    'friends_count': 'following_count'\n",
    "}\n",
    "\n",
    "ACCOUNT_DELETE_KEYS = ['entities', 'profile_interstitial_type']\n",
    "\n",
    "def rename_key_in_dict(input_dict, key_mapping):\n",
    "    \"\"\"Renames keys in a dictionary.\n",
    "    Args:\n",
    "        key_mapping: Mapping of old keys to new keys, \n",
    "                     e.g., {\"old_name_1\": \"new_name_1\", \"old_name_2\": \"new_name_2\", ...}\n",
    "    Returns:\n",
    "        A new dictionary with renamed keys.\n",
    "    \"\"\"\n",
    "    return {key_mapping.get(k, k): v for k, v in input_dict.items()}\n",
    "\n",
    "def remove_key_values(input_dict, keys_to_delete):\n",
    "    \"\"\"delete key-value in dict\"\"\"\n",
    "    opt_dct = copy.deepcopy(input_dict)\n",
    "    for key in keys_to_delete:\n",
    "        if key in opt_dct:  # 检查键是否存在，避免 KeyError\n",
    "            del opt_dct[key]\n",
    "    return opt_dct # 为了方便链式调用，返回修改后的字典\n",
    "\n",
    "\n",
    "# for data alignment purpose\n",
    "def align_acct_data(tweeterpy_acct_data):\n",
    "    \"\"\"Processes account information from TweeterPy to align data format.\n",
    "    Args:\n",
    "        tweeterpy_acct_data (dict): Account data from TweeterPy.\n",
    "\n",
    "    Returns:\n",
    "        dict: Aligned account information.\n",
    "    \"\"\"\n",
    "    acct_info = tweeterpy_acct_data.get('legacy', {}) # Default to empty dict to avoid errors\n",
    "\n",
    "    # Generate new keys - use .get() with defaults for robustness\n",
    "    acct_info['_client'] = 'tweeterpy_client'\n",
    "    acct_info['id'] = tweeterpy_acct_data.get('rest_id')\n",
    "    acct_info['is_blue_verified'] = tweeterpy_acct_data.get('is_blue_verified')\n",
    "    acct_info['urls'] = tweeterpy_acct_data.get('legacy', {}).get('entities', {}).get('url', {}).get('urls')\n",
    "    acct_info['description_urls'] = tweeterpy_acct_data.get('legacy', {}).get('entities', {}).get('description', {}).get('urls')\n",
    "\n",
    "    # Rename keys using constant mapping\n",
    "    acct_info = rename_key_in_dict(acct_info, ACCOUNT_KEY_MAPPING)\n",
    "\n",
    "    # Drop keys using constant list\n",
    "    acct_info = remove_key_values(acct_info, ACCOUNT_DELETE_KEYS)\n",
    "\n",
    "    return acct_info\n",
    "\n",
    "\n",
    "def align_tweet_data(tweeterpy_tweet_data):\n",
    "    # tweeterpy_tweet_data = result.get('data', {}).get('tweetResult', {}) or result.get('data', {}).get('tweetResults', {})\n",
    "    info = tweeterpy_tweet_data.get('result', {})\n",
    "\n",
    "    # for acct info\n",
    "    acct_data = info.get('core', {}).get('user_results', {}).get('result', {})\n",
    "    acct_data = align_acct_data(acct_data)\n",
    "\n",
    "    # for tweet info\n",
    "    tweet_data = info.get('legacy')\n",
    "    tweet_data['id'] = info.get('rest_id')\n",
    "\n",
    "    return tweet_data, acct_data\n",
    "\n",
    "\n",
    "class TwitterKit:\n",
    "    def __init__(\n",
    "            self, \n",
    "            proxy_list, \n",
    "            max_retires: Optional[int] = MAX_RETRIES\n",
    "        ):\n",
    "        \"\"\"initiate twitter tools and set up parameters\n",
    "        Args:\n",
    "            proxy_lst: list of proxies in format like 'ip_addr:port'. support http proxies for now.\n",
    "            x_login_name, x_password, x_login_email: X related login information. \n",
    "        Note:\n",
    "            1. tweeterpy_client (based on tweeterpy package) is set up to get user id, user data and tweet given specific id.\n",
    "            3. tweeterpy_client does not require login credentials, while twikit_client requires X related login information.\n",
    "            4. tweeterpy_client is bound to rate limits constraint. It may resort to proxy to get over it.\n",
    "            6. tweeterpy_clients_usage records client / proxy usage information for tweeterpy_client. It includes:\n",
    "                - proxy: proxy used\n",
    "                - initiate_tm: client first initiated\n",
    "                - last_call_tm: client last called with API usage\n",
    "                - remaining_requests: remaining usage cnt\n",
    "                - next_reset_tm: rate limit next reset time\n",
    "        \"\"\"\n",
    "        self.max_retires = max_retires\n",
    "        self.tweeterpy_clients_usage = [{'proxy': proxy} for proxy in proxy_list]  # save client / proxy usage information\n",
    "        self.twikit_client_usage = {}\n",
    "        self.current_proxy = None\n",
    "\n",
    "\n",
    "    def _load_tweeterpy_client(self, excluded_proxies: Optional[Set]=set()):\n",
    "        \"\"\"Loads a usable TweeterPy client.\n",
    "        Iterates through available proxies to find one that is connectable, \n",
    "        not marked as bad, and not rate-limited.\n",
    "        Args:\n",
    "            excluded_proxies (Optional[Set], optional): A set of proxies to exclude. \n",
    "                                                        Defaults to an empty set.\n",
    "        \"\"\"\n",
    "        flag = 0\n",
    "\n",
    "        # Iterate all clients for usable one (connectable proxy and within rate limits)\n",
    "        for idx, client_usage in enumerate(self.tweeterpy_clients_usage):\n",
    "            proxy_status = client_usage.get('proxy') in excluded_proxies or \\\n",
    "                           client_usage.get('is_bad_proxy', False) or \\\n",
    "                           (client_usage.get('remaining_requests', DEFAULT_REMAINING_REQUESTS_THRESHOLD) <= 0 and \\\n",
    "                            client_usage.get('next_reset_tm', 0) > int(time.time()))\n",
    "\n",
    "            if proxy_status:\n",
    "                continue # Skip to next proxy if current proxy is excluded, bad, or rate-limited\n",
    "            else:\n",
    "                try:\n",
    "                    self.tweeterpy_client = TweeterPy(\n",
    "                        proxies={'http': client_usage.get('proxy')},\n",
    "                        log_level=\"WARNING\"\n",
    "                    )\n",
    "                    test_uid = self.tweeterpy_client.get_user_id('elonmask')  # Test if client works\n",
    "                    client_usage['initiate_tm'] = int(time.time())\n",
    "                    self.current_proxy = client_usage['proxy']\n",
    "                    flag = 1\n",
    "                    break # Exit loop once a usable client is found\n",
    "\n",
    "                except requests.exceptions.ConnectionError as e: # Be specific with exception type\n",
    "                    logging.warning(f\"Connection error with proxy {client_usage['proxy']}: {e}\")\n",
    "                    client_usage['is_bad_proxy'] = True\n",
    "                    continue # Try next proxy\n",
    "\n",
    "                except Exception as e: # Catch other potential exceptions during client loading\n",
    "                    logging.warning(f\"Error loading client with proxy {client_usage['proxy']}: {e}\")\n",
    "                    client_usage['is_bad_proxy'] = True\n",
    "                    continue # Stop trying proxies if a non-connection related error occurs\n",
    "\n",
    "        if flag == 0: # No usable client found\n",
    "            logging.error(\"Exhausted all proxies, could not establish TweeterPy client.\")\n",
    "            self.tweeterpy_client = None\n",
    "            self.current_proxy = None\n",
    "\n",
    "\n",
    "    def get_user_id(self, username) -> Optional[str]: # More specific return type hint\n",
    "        \"\"\"Gets user ID based on username (screen name like 'elonmusk').\n",
    "        Args:\n",
    "            username (str): Twitter screen name (e.g., 'elonmusk').\n",
    "        Returns:\n",
    "            Optional[str]: User ID as a string, or None if retrieval fails after retries.\n",
    "        \"\"\"\n",
    "        attempt = 0\n",
    "        excluded_proxies = set()\n",
    "        while attempt < self.max_retires:\n",
    "            try:\n",
    "                uid = self.tweeterpy_client.get_user_id(username)\n",
    "                return uid # Return user ID immediately on success\n",
    "\n",
    "            except requests.exceptions.ConnectionError as e: # Specific ConnectionError\n",
    "                logging.warning(f\"Connection error for user ID lookup of '{username}' using proxy {self.current_proxy}, retrying... (Attempt {attempt + 1}/{self.max_retires})\")\n",
    "                excluded_proxies.add(self.current_proxy)\n",
    "                self._load_tweeterpy_client(excluded_proxies) # Load new client with proxy rotation\n",
    "                attempt += 1\n",
    "                continue # Retry with new client/proxy\n",
    "\n",
    "            except Exception as e: # Catch other exceptions\n",
    "                logging.error(f\"Error getting user ID for '{username}' after {attempt + 1} attempts. Error: {e}\")\n",
    "                return None # Return None on general error after retries\n",
    "\n",
    "        logging.error(f\"Failed to get user ID for '{username}' after {self.max_retires} retries.\") # Log if max retries reached\n",
    "        return None # Return None if max retries exceeded\n",
    "\n",
    "\n",
    "    def get_user_info(self, username):\n",
    "        \"\"\"get user profile based on user name (screen name like 'elonmusk')\n",
    "        Args:\n",
    "            username (str): user name (screen name like 'elonmusk')\n",
    "        Usage:\n",
    "            uid = user_data.get('rest_id')\n",
    "            tweet_acct_info = user_data.get('legacy')\n",
    "        \"\"\"\n",
    "        attempt = 0\n",
    "        excluded_proxies = set()\n",
    "        while attempt < self.max_retires:\n",
    "            try:\n",
    "                user_info = self.tweeterpy_client.get_user_data(username)\n",
    "                break\n",
    "            except ConnectionError as e:\n",
    "                excluded_proxies.add(self.current_proxy)\n",
    "                self._load_tweeterpy_client(excluded_proxies)\n",
    "                attempt += 1\n",
    "                continue\n",
    "            except Exception as e:\n",
    "                logging.error(f\"Unable to get user data for {username}. Error code: {e}\")\n",
    "                return None\n",
    "        \n",
    "        # decode user info\n",
    "        if user_info:\n",
    "            try:\n",
    "                return align_acct_data(user_info)\n",
    "            except Exception as e:\n",
    "                print(f\"TweeterPy decode error: {e}\")\n",
    "        return None\n",
    "\n",
    "\n",
    "    def get_tweet_by_id(self, tweet_id):\n",
    "        \"\"\"Retrieves a tweet given specific tweet id.\n",
    "        Args:\n",
    "            username (str): user name (screen name like 'elonmusk')\n",
    "            tweet_id (str): status id of tweet url\n",
    "        Returns:\n",
    "            tweet_dct (dict): information including tweet, user, and api usage\n",
    "        Usage:\n",
    "            tweet_id = tweet_dct.get('rest_id')  # tweet_id\n",
    "            usage_data = tweet_dct.get('api_rate_limit')  # for api rate limit information\n",
    "            tweet_info= tweet_dct.get('data', {}).get('tweetResult', {}).get('result', {})\n",
    "            tweet_user_data = tweet_info.get('core', {}).get('user_results', {}).get('result', {})  # for user info\n",
    "            tweet_data = tweet_info.get('legacy')  # for tweet info\n",
    "        \"\"\"\n",
    "        attempt = 0\n",
    "        excluded_proxies = set()\n",
    "        while attempt < self.max_retires:\n",
    "            try:\n",
    "                tweet_info = self.tweeterpy_client.get_tweet(tweet_id)\n",
    "                api_limit = tweet_info.get('api_rate_limit', {})\n",
    "                # update client usage info\n",
    "                idx = [x['proxy'] for x in self.tweeterpy_clients_usage].index(self.current_proxy)\n",
    "                self.tweeterpy_clients_usage[idx]['last_call_tm'] = int(time.time())\n",
    "                self.tweeterpy_clients_usage[idx]['remaining_requests'] = api_limit.get('remaining_requests_count')\n",
    "                self.tweeterpy_clients_usage[idx]['next_reset_tm'] = int((datetime.datetime.now() + api_limit.get('reset_after_datetime_object')).timestamp())\n",
    "                break # Success! Exit retry loop\n",
    "\n",
    "            except requests.exceptions.ConnectionError as e:\n",
    "                logging.warning(f\"Connection error for tweet ID '{tweet_id}' using proxy {self.current_proxy}, retrying... (Attempt {attempt + 1}/{self.max_retires})\")\n",
    "                excluded_proxies.add(self.current_proxy)\n",
    "                self._load_tweeterpy_client(excluded_proxies)\n",
    "                attempt += 1\n",
    "                continue # Retry with proxy rotation\n",
    "\n",
    "            except RateLimitError as e:\n",
    "                logging.warning(f\"Rate limit hit for tweet ID '{tweet_id}' using proxy {self.current_proxy}, retrying with proxy rotation... (Attempt {attempt + 1}/{self.max_retires})\")\n",
    "                # Consider adding time.sleep(some_backoff_duration) here\n",
    "                self._load_tweeterpy_client(excluded_proxies)\n",
    "                attempt += 1\n",
    "                continue # Retry with proxy rotation\n",
    "\n",
    "            except Exception as e:\n",
    "                logging.error(f\"Error getting tweet data for tweet ID '{tweet_id}' after {attempt + 1} attempts. Error: {e}\")\n",
    "                return None, None # Return None, None on general error after retries\n",
    "\n",
    "        # decode tweet info\n",
    "        if tweet_info:\n",
    "            try:\n",
    "                tweet_result = tweet_info.get('data', {}).get('tweetResult', {}) or {} # Default to empty dict\n",
    "                tweet_data, acct_data = align_tweet_data(tweet_result)\n",
    "                return tweet_data, acct_data\n",
    "            except Exception as e:\n",
    "                print(f\"TweeterPy decode error for tweet ID '{tweet_id}': {e}\") # Include tweet_id in decode error log\n",
    "        return None, None # Return None, None if tweet_info is empty or decoding fails\n",
    "\n",
    "\n",
    "    def get_tweets_by_user(self, username, total=20) -> Tuple[Optional[List[Dict]], Optional[List[Dict]]]:\n",
    "        \"\"\"Gets user tweets based on username (screen name like 'elonmusk').\n",
    "            Not recommended for timeline retrieval as tweets might not be in time sequence \n",
    "            and the total number of tweets retrievable might be limited. \n",
    "            Consider using a more robust timeline API if chronological order and completeness are critical.\n",
    "\n",
    "        Args:\n",
    "            username (str): Twitter screen name (e.g., 'elonmusk').\n",
    "            total (int, optional): Number of tweets to attempt to retrieve. Defaults to 20.\n",
    "\n",
    "        Returns:\n",
    "            Tuple[Optional[List[Dict]], Optional[List[Dict]]]: \n",
    "            A tuple containing two lists: \n",
    "                - List of tweet data dictionaries, or None if retrieval fails.\n",
    "                - List of user account data dictionaries corresponding to the tweets, or None if retrieval fails.\n",
    "        \"\"\"\n",
    "        attempt = 0\n",
    "        excluded_proxies = set()\n",
    "        while attempt < self.max_retires:\n",
    "            try:\n",
    "                user_tweets_info = self.tweeterpy_client.get_user_tweets(username, total=total)\n",
    "                api_limit = user_tweets_info.get('api_rate_limit', {})\n",
    "                # update client usage info\n",
    "                idx = [x['proxy'] for x in self.tweeterpy_clients_usage].index(self.current_proxy)\n",
    "                self.tweeterpy_clients_usage[idx]['last_call_tm'] = int(time.time())\n",
    "                self.tweeterpy_clients_usage[idx]['remaining_requests'] = api_limit.get('remaining_requests_count')\n",
    "                self.tweeterpy_clients_usage[idx]['next_reset_tm'] = int((datetime.datetime.now() + api_limit.get('reset_after_datetime_object')).timestamp())\n",
    "                break # Success! Exit retry loop\n",
    "\n",
    "            except requests.exceptions.ConnectionError as e:\n",
    "                logging.warning(f\"Connection error for user tweets of '{username}' using proxy {self.current_proxy}, retrying... (Attempt {attempt + 1}/{self.max_retires})\")\n",
    "                excluded_proxies.add(self.current_proxy)\n",
    "                self._load_tweeterpy_client(excluded_proxies)\n",
    "                attempt += 1\n",
    "                continue # Retry with proxy rotation\n",
    "\n",
    "            except RateLimitError as e:\n",
    "                logging.warning(f\"Rate limit hit for user tweets of '{username}' using proxy {self.current_proxy}, retrying with proxy rotation... (Attempt {attempt + 1}/{self.max_retires})\")\n",
    "                # Consider adding time.sleep(some_backoff_duration) here\n",
    "                self._load_tweeterpy_client(excluded_proxies)\n",
    "                attempt += 1\n",
    "                continue # Retry with proxy rotation\n",
    "\n",
    "            except Exception as e:\n",
    "                logging.error(f\"Error getting tweet data for user '{username}' after {attempt + 1} attempts. Error: {e}\")\n",
    "                return None, None # Return None, None on general error after retries\n",
    "\n",
    "        # decode tweet info\n",
    "        if user_tweets_info and user_tweets_info.get('data'): # More explicit check for data\n",
    "            try:\n",
    "                accts_data, tweets_data = [], []\n",
    "                for item in user_tweets_info.get('data', []): # Iterate through data list\n",
    "                    item_info = item.get('content', {}).get('itemContent', {}) # Deeper .get() with defaults\n",
    "                    tweet_results = item_info.get('tweet_results', {}) # Deeper .get() with defaults\n",
    "                    tweet_data, acct_data = align_tweet_data(tweet_results) # Align data for each tweet\n",
    "                    if tweet_data and acct_data: # Only append if data is successfully aligned\n",
    "                        accts_data.append(acct_data)\n",
    "                        tweets_data.append(tweet_data)\n",
    "                return tweets_data, accts_data\n",
    "            except Exception as e:\n",
    "                print(f\"TweeterPy decode error for user '{username}': {e}\") # Include username in decode error log\n",
    "        return None, None # Return None, None if no user_tweets_info or data is empty or decoding fails"
   ]
  },
  {
   "cell_type": "code",
   "execution_count": 26,
   "metadata": {},
   "outputs": [
    {
     "name": "stderr",
     "output_type": "stream",
     "text": [
      "/home/jiezi/miniconda3/envs/ai4fun/lib/python3.10/site-packages/urllib3/connectionpool.py:1097: InsecureRequestWarning: Unverified HTTPS request is being made to host 'x.com'. Adding certificate verification is strongly advised. See: https://urllib3.readthedocs.io/en/latest/advanced-usage.html#tls-warnings\n",
      "  warnings.warn(\n",
      "/home/jiezi/miniconda3/envs/ai4fun/lib/python3.10/site-packages/urllib3/connectionpool.py:1097: InsecureRequestWarning: Unverified HTTPS request is being made to host 'api.x.com'. Adding certificate verification is strongly advised. See: https://urllib3.readthedocs.io/en/latest/advanced-usage.html#tls-warnings\n",
      "  warnings.warn(\n"
     ]
    },
    {
     "name": "stdout",
     "output_type": "stream",
     "text": [
      "2025-02-26 22:47:59,361 [\u001b[0;33mWARNING\u001b[0m] :: Skipping API Updates. Couldn't get the latest API data.\n"
     ]
    },
    {
     "name": "stderr",
     "output_type": "stream",
     "text": [
      "/home/jiezi/miniconda3/envs/ai4fun/lib/python3.10/site-packages/urllib3/connectionpool.py:1097: InsecureRequestWarning: Unverified HTTPS request is being made to host 'x.com'. Adding certificate verification is strongly advised. See: https://urllib3.readthedocs.io/en/latest/advanced-usage.html#tls-warnings\n",
      "  warnings.warn(\n"
     ]
    },
    {
     "name": "stdout",
     "output_type": "stream",
     "text": [
      "2025-02-26 22:47:59,604 [\u001b[1;31mERROR\u001b[0m] :: 404 Client Error: Not Found for url: https://x.com/i/api/graphql/32pL5BWe9WKeSK1MoPvFQQ/UserByScreenName?variables=%7B%22screen_name%22%3A+%22elonmask%22%2C+%22withSafetyModeUserFields%22%3A+true%7D&features=%7B%22hidden_profile_subscriptions_enabled%22%3A+true%2C+%22profile_label_improvements_pcf_label_in_post_enabled%22%3A+true%2C+%22rweb_tipjar_consumption_enabled%22%3A+true%2C+%22responsive_web_graphql_exclude_directive_enabled%22%3A+true%2C+%22verified_phone_label_enabled%22%3A+false%2C+%22subscriptions_verification_info_is_identity_verified_enabled%22%3A+true%2C+%22subscriptions_verification_info_verified_since_enabled%22%3A+true%2C+%22highlights_tweets_tab_ui_enabled%22%3A+true%2C+%22responsive_web_twitter_article_notes_tab_enabled%22%3A+true%2C+%22subscriptions_feature_can_gift_premium%22%3A+false%2C+%22creator_subscriptions_tweet_preview_api_enabled%22%3A+true%2C+%22responsive_web_graphql_skip_user_profile_image_extensions_enabled%22%3A+false%2C+%22responsive_web_graphql_timeline_navigation_enabled%22%3A+true%7D\n",
      "\n",
      "Traceback (most recent call last):\n",
      "  File \"/home/jiezi/miniconda3/envs/ai4fun/lib/python3.10/site-packages/tweeterpy/utils/request.py\", line 44, in request\n",
      "    response.raise_for_status()\n",
      "  File \"/home/jiezi/miniconda3/envs/ai4fun/lib/python3.10/site-packages/requests/models.py\", line 1024, in raise_for_status\n",
      "    raise HTTPError(http_error_msg, response=self)\n",
      "requests.exceptions.HTTPError: 404 Client Error: Not Found for url: https://x.com/i/api/graphql/32pL5BWe9WKeSK1MoPvFQQ/UserByScreenName?variables=%7B%22screen_name%22%3A+%22elonmask%22%2C+%22withSafetyModeUserFields%22%3A+true%7D&features=%7B%22hidden_profile_subscriptions_enabled%22%3A+true%2C+%22profile_label_improvements_pcf_label_in_post_enabled%22%3A+true%2C+%22rweb_tipjar_consumption_enabled%22%3A+true%2C+%22responsive_web_graphql_exclude_directive_enabled%22%3A+true%2C+%22verified_phone_label_enabled%22%3A+false%2C+%22subscriptions_verification_info_is_identity_verified_enabled%22%3A+true%2C+%22subscriptions_verification_info_verified_since_enabled%22%3A+true%2C+%22highlights_tweets_tab_ui_enabled%22%3A+true%2C+%22responsive_web_twitter_article_notes_tab_enabled%22%3A+true%2C+%22subscriptions_feature_can_gift_premium%22%3A+false%2C+%22creator_subscriptions_tweet_preview_api_enabled%22%3A+true%2C+%22responsive_web_graphql_skip_user_profile_image_extensions_enabled%22%3A+false%2C+%22responsive_web_graphql_timeline_navigation_enabled%22%3A+true%7D\n",
      "2025-02-26 22:47:59,605 [\u001b[0;33mWARNING\u001b[0m] :: Error loading client with proxy 44.218.183.55:80: 404 Client Error: Not Found for url: https://x.com/i/api/graphql/32pL5BWe9WKeSK1MoPvFQQ/UserByScreenName?variables=%7B%22screen_name%22%3A+%22elonmask%22%2C+%22withSafetyModeUserFields%22%3A+true%7D&features=%7B%22hidden_profile_subscriptions_enabled%22%3A+true%2C+%22profile_label_improvements_pcf_label_in_post_enabled%22%3A+true%2C+%22rweb_tipjar_consumption_enabled%22%3A+true%2C+%22responsive_web_graphql_exclude_directive_enabled%22%3A+true%2C+%22verified_phone_label_enabled%22%3A+false%2C+%22subscriptions_verification_info_is_identity_verified_enabled%22%3A+true%2C+%22subscriptions_verification_info_verified_since_enabled%22%3A+true%2C+%22highlights_tweets_tab_ui_enabled%22%3A+true%2C+%22responsive_web_twitter_article_notes_tab_enabled%22%3A+true%2C+%22subscriptions_feature_can_gift_premium%22%3A+false%2C+%22creator_subscriptions_tweet_preview_api_enabled%22%3A+true%2C+%22responsive_web_graphql_skip_user_profile_image_extensions_enabled%22%3A+false%2C+%22responsive_web_graphql_timeline_navigation_enabled%22%3A+true%7D\n"
     ]
    },
    {
     "name": "stderr",
     "output_type": "stream",
     "text": [
      "/home/jiezi/miniconda3/envs/ai4fun/lib/python3.10/site-packages/urllib3/connectionpool.py:1097: InsecureRequestWarning: Unverified HTTPS request is being made to host 'x.com'. Adding certificate verification is strongly advised. See: https://urllib3.readthedocs.io/en/latest/advanced-usage.html#tls-warnings\n",
      "  warnings.warn(\n",
      "/home/jiezi/miniconda3/envs/ai4fun/lib/python3.10/site-packages/urllib3/connectionpool.py:1097: InsecureRequestWarning: Unverified HTTPS request is being made to host 'api.x.com'. Adding certificate verification is strongly advised. See: https://urllib3.readthedocs.io/en/latest/advanced-usage.html#tls-warnings\n",
      "  warnings.warn(\n"
     ]
    },
    {
     "name": "stdout",
     "output_type": "stream",
     "text": [
      "2025-02-26 22:48:03,506 [\u001b[0;33mWARNING\u001b[0m] :: Skipping API Updates. Couldn't get the latest API data.\n"
     ]
    },
    {
     "name": "stderr",
     "output_type": "stream",
     "text": [
      "/home/jiezi/miniconda3/envs/ai4fun/lib/python3.10/site-packages/urllib3/connectionpool.py:1097: InsecureRequestWarning: Unverified HTTPS request is being made to host 'x.com'. Adding certificate verification is strongly advised. See: https://urllib3.readthedocs.io/en/latest/advanced-usage.html#tls-warnings\n",
      "  warnings.warn(\n"
     ]
    }
   ],
   "source": [
    "twitter = TwitterKit(proxy_list=http_proxies)\n",
    "twitter._load_tweeterpy_client()"
   ]
  },
  {
   "cell_type": "code",
   "execution_count": 27,
   "metadata": {},
   "outputs": [
    {
     "name": "stdout",
     "output_type": "stream",
     "text": [
      "https://x.com/fly51fly/status/1894502568359071921 fly51fly 1894502568359071921\n"
     ]
    },
    {
     "name": "stderr",
     "output_type": "stream",
     "text": [
      "/home/jiezi/miniconda3/envs/ai4fun/lib/python3.10/site-packages/urllib3/connectionpool.py:1097: InsecureRequestWarning: Unverified HTTPS request is being made to host 'x.com'. Adding certificate verification is strongly advised. See: https://urllib3.readthedocs.io/en/latest/advanced-usage.html#tls-warnings\n",
      "  warnings.warn(\n"
     ]
    },
    {
     "name": "stdout",
     "output_type": "stream",
     "text": [
      "https://x.com/fly51fly/status/1894498860955046329 fly51fly 1894498860955046329\n"
     ]
    },
    {
     "name": "stderr",
     "output_type": "stream",
     "text": [
      "/home/jiezi/miniconda3/envs/ai4fun/lib/python3.10/site-packages/urllib3/connectionpool.py:1097: InsecureRequestWarning: Unverified HTTPS request is being made to host 'x.com'. Adding certificate verification is strongly advised. See: https://urllib3.readthedocs.io/en/latest/advanced-usage.html#tls-warnings\n",
      "  warnings.warn(\n"
     ]
    },
    {
     "name": "stdout",
     "output_type": "stream",
     "text": [
      "https://x.com/fly51fly/status/1894138136516858285 fly51fly 1894138136516858285\n"
     ]
    },
    {
     "name": "stderr",
     "output_type": "stream",
     "text": [
      "/home/jiezi/miniconda3/envs/ai4fun/lib/python3.10/site-packages/urllib3/connectionpool.py:1097: InsecureRequestWarning: Unverified HTTPS request is being made to host 'x.com'. Adding certificate verification is strongly advised. See: https://urllib3.readthedocs.io/en/latest/advanced-usage.html#tls-warnings\n",
      "  warnings.warn(\n"
     ]
    },
    {
     "name": "stdout",
     "output_type": "stream",
     "text": [
      "https://x.com/fly51fly/status/1894146744453087701 fly51fly 1894146744453087701\n"
     ]
    },
    {
     "name": "stderr",
     "output_type": "stream",
     "text": [
      "/home/jiezi/miniconda3/envs/ai4fun/lib/python3.10/site-packages/urllib3/connectionpool.py:1097: InsecureRequestWarning: Unverified HTTPS request is being made to host 'x.com'. Adding certificate verification is strongly advised. See: https://urllib3.readthedocs.io/en/latest/advanced-usage.html#tls-warnings\n",
      "  warnings.warn(\n"
     ]
    },
    {
     "name": "stdout",
     "output_type": "stream",
     "text": [
      "https://x.com/fly51fly/status/1894144009897218237 fly51fly 1894144009897218237\n"
     ]
    },
    {
     "name": "stderr",
     "output_type": "stream",
     "text": [
      "/home/jiezi/miniconda3/envs/ai4fun/lib/python3.10/site-packages/urllib3/connectionpool.py:1097: InsecureRequestWarning: Unverified HTTPS request is being made to host 'x.com'. Adding certificate verification is strongly advised. See: https://urllib3.readthedocs.io/en/latest/advanced-usage.html#tls-warnings\n",
      "  warnings.warn(\n"
     ]
    },
    {
     "name": "stdout",
     "output_type": "stream",
     "text": [
      "https://x.com/fly51fly/status/1894135707436028132 fly51fly 1894135707436028132\n"
     ]
    },
    {
     "name": "stderr",
     "output_type": "stream",
     "text": [
      "/home/jiezi/miniconda3/envs/ai4fun/lib/python3.10/site-packages/urllib3/connectionpool.py:1097: InsecureRequestWarning: Unverified HTTPS request is being made to host 'x.com'. Adding certificate verification is strongly advised. See: https://urllib3.readthedocs.io/en/latest/advanced-usage.html#tls-warnings\n",
      "  warnings.warn(\n"
     ]
    },
    {
     "name": "stdout",
     "output_type": "stream",
     "text": [
      "https://x.com/fly51fly/status/1894139567030321213 fly51fly 1894139567030321213\n"
     ]
    },
    {
     "name": "stderr",
     "output_type": "stream",
     "text": [
      "/home/jiezi/miniconda3/envs/ai4fun/lib/python3.10/site-packages/urllib3/connectionpool.py:1097: InsecureRequestWarning: Unverified HTTPS request is being made to host 'x.com'. Adding certificate verification is strongly advised. See: https://urllib3.readthedocs.io/en/latest/advanced-usage.html#tls-warnings\n",
      "  warnings.warn(\n"
     ]
    },
    {
     "name": "stdout",
     "output_type": "stream",
     "text": [
      "https://x.com/fly51fly/status/1894142615924478092 fly51fly 1894142615924478092\n"
     ]
    },
    {
     "name": "stderr",
     "output_type": "stream",
     "text": [
      "/home/jiezi/miniconda3/envs/ai4fun/lib/python3.10/site-packages/urllib3/connectionpool.py:1097: InsecureRequestWarning: Unverified HTTPS request is being made to host 'x.com'. Adding certificate verification is strongly advised. See: https://urllib3.readthedocs.io/en/latest/advanced-usage.html#tls-warnings\n",
      "  warnings.warn(\n"
     ]
    },
    {
     "name": "stdout",
     "output_type": "stream",
     "text": [
      "https://x.com/fly51fly/status/1894145919370891388 fly51fly 1894145919370891388\n"
     ]
    },
    {
     "name": "stderr",
     "output_type": "stream",
     "text": [
      "/home/jiezi/miniconda3/envs/ai4fun/lib/python3.10/site-packages/urllib3/connectionpool.py:1097: InsecureRequestWarning: Unverified HTTPS request is being made to host 'x.com'. Adding certificate verification is strongly advised. See: https://urllib3.readthedocs.io/en/latest/advanced-usage.html#tls-warnings\n",
      "  warnings.warn(\n"
     ]
    },
    {
     "name": "stdout",
     "output_type": "stream",
     "text": [
      "https://x.com/fly51fly/status/1893780501187416366 fly51fly 1893780501187416366\n"
     ]
    },
    {
     "name": "stderr",
     "output_type": "stream",
     "text": [
      "/home/jiezi/miniconda3/envs/ai4fun/lib/python3.10/site-packages/urllib3/connectionpool.py:1097: InsecureRequestWarning: Unverified HTTPS request is being made to host 'x.com'. Adding certificate verification is strongly advised. See: https://urllib3.readthedocs.io/en/latest/advanced-usage.html#tls-warnings\n",
      "  warnings.warn(\n"
     ]
    },
    {
     "name": "stdout",
     "output_type": "stream",
     "text": [
      "https://x.com/fly51fly/status/1893775966419173448 fly51fly 1893775966419173448\n"
     ]
    },
    {
     "name": "stderr",
     "output_type": "stream",
     "text": [
      "/home/jiezi/miniconda3/envs/ai4fun/lib/python3.10/site-packages/urllib3/connectionpool.py:1097: InsecureRequestWarning: Unverified HTTPS request is being made to host 'x.com'. Adding certificate verification is strongly advised. See: https://urllib3.readthedocs.io/en/latest/advanced-usage.html#tls-warnings\n",
      "  warnings.warn(\n"
     ]
    },
    {
     "name": "stdout",
     "output_type": "stream",
     "text": [
      "https://x.com/fly51fly/status/1893777630446358751 fly51fly 1893777630446358751\n"
     ]
    },
    {
     "name": "stderr",
     "output_type": "stream",
     "text": [
      "/home/jiezi/miniconda3/envs/ai4fun/lib/python3.10/site-packages/urllib3/connectionpool.py:1097: InsecureRequestWarning: Unverified HTTPS request is being made to host 'x.com'. Adding certificate verification is strongly advised. See: https://urllib3.readthedocs.io/en/latest/advanced-usage.html#tls-warnings\n",
      "  warnings.warn(\n"
     ]
    },
    {
     "name": "stdout",
     "output_type": "stream",
     "text": [
      "https://x.com/fly51fly/status/1893773941543464997 fly51fly 1893773941543464997\n"
     ]
    },
    {
     "name": "stderr",
     "output_type": "stream",
     "text": [
      "/home/jiezi/miniconda3/envs/ai4fun/lib/python3.10/site-packages/urllib3/connectionpool.py:1097: InsecureRequestWarning: Unverified HTTPS request is being made to host 'x.com'. Adding certificate verification is strongly advised. See: https://urllib3.readthedocs.io/en/latest/advanced-usage.html#tls-warnings\n",
      "  warnings.warn(\n"
     ]
    },
    {
     "name": "stdout",
     "output_type": "stream",
     "text": [
      "https://x.com/fly51fly/status/1893772178627178787 fly51fly 1893772178627178787\n"
     ]
    },
    {
     "name": "stderr",
     "output_type": "stream",
     "text": [
      "/home/jiezi/miniconda3/envs/ai4fun/lib/python3.10/site-packages/urllib3/connectionpool.py:1097: InsecureRequestWarning: Unverified HTTPS request is being made to host 'x.com'. Adding certificate verification is strongly advised. See: https://urllib3.readthedocs.io/en/latest/advanced-usage.html#tls-warnings\n",
      "  warnings.warn(\n"
     ]
    },
    {
     "name": "stdout",
     "output_type": "stream",
     "text": [
      "https://x.com/rohanpaul_ai/status/1894733341397774562 rohanpaul_ai 1894733341397774562\n"
     ]
    },
    {
     "name": "stderr",
     "output_type": "stream",
     "text": [
      "/home/jiezi/miniconda3/envs/ai4fun/lib/python3.10/site-packages/urllib3/connectionpool.py:1097: InsecureRequestWarning: Unverified HTTPS request is being made to host 'x.com'. Adding certificate verification is strongly advised. See: https://urllib3.readthedocs.io/en/latest/advanced-usage.html#tls-warnings\n",
      "  warnings.warn(\n"
     ]
    },
    {
     "name": "stdout",
     "output_type": "stream",
     "text": [
      "https://x.com/rohanpaul_ai/status/1894733379591119176 rohanpaul_ai 1894733379591119176\n"
     ]
    },
    {
     "name": "stderr",
     "output_type": "stream",
     "text": [
      "/home/jiezi/miniconda3/envs/ai4fun/lib/python3.10/site-packages/urllib3/connectionpool.py:1097: InsecureRequestWarning: Unverified HTTPS request is being made to host 'x.com'. Adding certificate verification is strongly advised. See: https://urllib3.readthedocs.io/en/latest/advanced-usage.html#tls-warnings\n",
      "  warnings.warn(\n"
     ]
    },
    {
     "name": "stdout",
     "output_type": "stream",
     "text": [
      "https://x.com/rohanpaul_ai/status/1894551678814490648 rohanpaul_ai 1894551678814490648\n"
     ]
    },
    {
     "name": "stderr",
     "output_type": "stream",
     "text": [
      "/home/jiezi/miniconda3/envs/ai4fun/lib/python3.10/site-packages/urllib3/connectionpool.py:1097: InsecureRequestWarning: Unverified HTTPS request is being made to host 'x.com'. Adding certificate verification is strongly advised. See: https://urllib3.readthedocs.io/en/latest/advanced-usage.html#tls-warnings\n",
      "  warnings.warn(\n"
     ]
    },
    {
     "name": "stdout",
     "output_type": "stream",
     "text": [
      "https://x.com/rohanpaul_ai/status/1894486543450214429 rohanpaul_ai 1894486543450214429\n"
     ]
    },
    {
     "name": "stderr",
     "output_type": "stream",
     "text": [
      "/home/jiezi/miniconda3/envs/ai4fun/lib/python3.10/site-packages/urllib3/connectionpool.py:1097: InsecureRequestWarning: Unverified HTTPS request is being made to host 'x.com'. Adding certificate verification is strongly advised. See: https://urllib3.readthedocs.io/en/latest/advanced-usage.html#tls-warnings\n",
      "  warnings.warn(\n"
     ]
    },
    {
     "name": "stdout",
     "output_type": "stream",
     "text": [
      "https://x.com/rohanpaul_ai/status/1894459234093600914 rohanpaul_ai 1894459234093600914\n"
     ]
    },
    {
     "name": "stderr",
     "output_type": "stream",
     "text": [
      "/home/jiezi/miniconda3/envs/ai4fun/lib/python3.10/site-packages/urllib3/connectionpool.py:1097: InsecureRequestWarning: Unverified HTTPS request is being made to host 'x.com'. Adding certificate verification is strongly advised. See: https://urllib3.readthedocs.io/en/latest/advanced-usage.html#tls-warnings\n",
      "  warnings.warn(\n"
     ]
    },
    {
     "name": "stdout",
     "output_type": "stream",
     "text": [
      "https://x.com/rohanpaul_ai/status/1894275109000810880 rohanpaul_ai 1894275109000810880\n"
     ]
    },
    {
     "name": "stderr",
     "output_type": "stream",
     "text": [
      "/home/jiezi/miniconda3/envs/ai4fun/lib/python3.10/site-packages/urllib3/connectionpool.py:1097: InsecureRequestWarning: Unverified HTTPS request is being made to host 'x.com'. Adding certificate verification is strongly advised. See: https://urllib3.readthedocs.io/en/latest/advanced-usage.html#tls-warnings\n",
      "  warnings.warn(\n"
     ]
    },
    {
     "name": "stdout",
     "output_type": "stream",
     "text": [
      "https://x.com/rohanpaul_ai/status/1894553992291914185 rohanpaul_ai 1894553992291914185\n"
     ]
    },
    {
     "name": "stderr",
     "output_type": "stream",
     "text": [
      "/home/jiezi/miniconda3/envs/ai4fun/lib/python3.10/site-packages/urllib3/connectionpool.py:1097: InsecureRequestWarning: Unverified HTTPS request is being made to host 'x.com'. Adding certificate verification is strongly advised. See: https://urllib3.readthedocs.io/en/latest/advanced-usage.html#tls-warnings\n",
      "  warnings.warn(\n"
     ]
    },
    {
     "name": "stdout",
     "output_type": "stream",
     "text": [
      "https://x.com/rohanpaul_ai/status/1894529145285349427 rohanpaul_ai 1894529145285349427\n"
     ]
    },
    {
     "name": "stderr",
     "output_type": "stream",
     "text": [
      "/home/jiezi/miniconda3/envs/ai4fun/lib/python3.10/site-packages/urllib3/connectionpool.py:1097: InsecureRequestWarning: Unverified HTTPS request is being made to host 'x.com'. Adding certificate verification is strongly advised. See: https://urllib3.readthedocs.io/en/latest/advanced-usage.html#tls-warnings\n",
      "  warnings.warn(\n"
     ]
    },
    {
     "name": "stdout",
     "output_type": "stream",
     "text": [
      "https://x.com/rohanpaul_ai/status/1894549756862763453 rohanpaul_ai 1894549756862763453\n"
     ]
    },
    {
     "name": "stderr",
     "output_type": "stream",
     "text": [
      "/home/jiezi/miniconda3/envs/ai4fun/lib/python3.10/site-packages/urllib3/connectionpool.py:1097: InsecureRequestWarning: Unverified HTTPS request is being made to host 'x.com'. Adding certificate verification is strongly advised. See: https://urllib3.readthedocs.io/en/latest/advanced-usage.html#tls-warnings\n",
      "  warnings.warn(\n"
     ]
    },
    {
     "name": "stdout",
     "output_type": "stream",
     "text": [
      "https://x.com/rohanpaul_ai/status/1894605560789737678 rohanpaul_ai 1894605560789737678\n"
     ]
    },
    {
     "name": "stderr",
     "output_type": "stream",
     "text": [
      "/home/jiezi/miniconda3/envs/ai4fun/lib/python3.10/site-packages/urllib3/connectionpool.py:1097: InsecureRequestWarning: Unverified HTTPS request is being made to host 'x.com'. Adding certificate verification is strongly advised. See: https://urllib3.readthedocs.io/en/latest/advanced-usage.html#tls-warnings\n",
      "  warnings.warn(\n"
     ]
    },
    {
     "name": "stdout",
     "output_type": "stream",
     "text": [
      "https://x.com/rohanpaul_ai/status/1894596501252227314 rohanpaul_ai 1894596501252227314\n"
     ]
    },
    {
     "name": "stderr",
     "output_type": "stream",
     "text": [
      "/home/jiezi/miniconda3/envs/ai4fun/lib/python3.10/site-packages/urllib3/connectionpool.py:1097: InsecureRequestWarning: Unverified HTTPS request is being made to host 'x.com'. Adding certificate verification is strongly advised. See: https://urllib3.readthedocs.io/en/latest/advanced-usage.html#tls-warnings\n",
      "  warnings.warn(\n"
     ]
    },
    {
     "name": "stdout",
     "output_type": "stream",
     "text": [
      "https://x.com/rohanpaul_ai/status/1894559177470874087 rohanpaul_ai 1894559177470874087\n"
     ]
    },
    {
     "name": "stderr",
     "output_type": "stream",
     "text": [
      "/home/jiezi/miniconda3/envs/ai4fun/lib/python3.10/site-packages/urllib3/connectionpool.py:1097: InsecureRequestWarning: Unverified HTTPS request is being made to host 'x.com'. Adding certificate verification is strongly advised. See: https://urllib3.readthedocs.io/en/latest/advanced-usage.html#tls-warnings\n",
      "  warnings.warn(\n"
     ]
    },
    {
     "name": "stdout",
     "output_type": "stream",
     "text": [
      "https://x.com/rohanpaul_ai/status/1894461131500261380 rohanpaul_ai 1894461131500261380\n"
     ]
    },
    {
     "name": "stderr",
     "output_type": "stream",
     "text": [
      "/home/jiezi/miniconda3/envs/ai4fun/lib/python3.10/site-packages/urllib3/connectionpool.py:1097: InsecureRequestWarning: Unverified HTTPS request is being made to host 'x.com'. Adding certificate verification is strongly advised. See: https://urllib3.readthedocs.io/en/latest/advanced-usage.html#tls-warnings\n",
      "  warnings.warn(\n"
     ]
    },
    {
     "name": "stdout",
     "output_type": "stream",
     "text": [
      "https://x.com/rohanpaul_ai/status/1894557513137492388 rohanpaul_ai 1894557513137492388\n"
     ]
    },
    {
     "name": "stderr",
     "output_type": "stream",
     "text": [
      "/home/jiezi/miniconda3/envs/ai4fun/lib/python3.10/site-packages/urllib3/connectionpool.py:1097: InsecureRequestWarning: Unverified HTTPS request is being made to host 'x.com'. Adding certificate verification is strongly advised. See: https://urllib3.readthedocs.io/en/latest/advanced-usage.html#tls-warnings\n",
      "  warnings.warn(\n"
     ]
    },
    {
     "name": "stdout",
     "output_type": "stream",
     "text": [
      "https://x.com/rohanpaul_ai/status/1894486411363205268 rohanpaul_ai 1894486411363205268\n"
     ]
    },
    {
     "name": "stderr",
     "output_type": "stream",
     "text": [
      "/home/jiezi/miniconda3/envs/ai4fun/lib/python3.10/site-packages/urllib3/connectionpool.py:1097: InsecureRequestWarning: Unverified HTTPS request is being made to host 'x.com'. Adding certificate verification is strongly advised. See: https://urllib3.readthedocs.io/en/latest/advanced-usage.html#tls-warnings\n",
      "  warnings.warn(\n"
     ]
    },
    {
     "name": "stdout",
     "output_type": "stream",
     "text": [
      "https://x.com/rohanpaul_ai/status/1893836427307143315 rohanpaul_ai 1893836427307143315\n"
     ]
    },
    {
     "name": "stderr",
     "output_type": "stream",
     "text": [
      "/home/jiezi/miniconda3/envs/ai4fun/lib/python3.10/site-packages/urllib3/connectionpool.py:1097: InsecureRequestWarning: Unverified HTTPS request is being made to host 'x.com'. Adding certificate verification is strongly advised. See: https://urllib3.readthedocs.io/en/latest/advanced-usage.html#tls-warnings\n",
      "  warnings.warn(\n"
     ]
    },
    {
     "name": "stdout",
     "output_type": "stream",
     "text": [
      "https://x.com/rohanpaul_ai/status/1894357452566794304 rohanpaul_ai 1894357452566794304\n"
     ]
    },
    {
     "name": "stderr",
     "output_type": "stream",
     "text": [
      "/home/jiezi/miniconda3/envs/ai4fun/lib/python3.10/site-packages/urllib3/connectionpool.py:1097: InsecureRequestWarning: Unverified HTTPS request is being made to host 'x.com'. Adding certificate verification is strongly advised. See: https://urllib3.readthedocs.io/en/latest/advanced-usage.html#tls-warnings\n",
      "  warnings.warn(\n"
     ]
    },
    {
     "name": "stdout",
     "output_type": "stream",
     "text": [
      "https://x.com/rohanpaul_ai/status/1894104026083733851 rohanpaul_ai 1894104026083733851\n"
     ]
    },
    {
     "name": "stderr",
     "output_type": "stream",
     "text": [
      "/home/jiezi/miniconda3/envs/ai4fun/lib/python3.10/site-packages/urllib3/connectionpool.py:1097: InsecureRequestWarning: Unverified HTTPS request is being made to host 'x.com'. Adding certificate verification is strongly advised. See: https://urllib3.readthedocs.io/en/latest/advanced-usage.html#tls-warnings\n",
      "  warnings.warn(\n"
     ]
    },
    {
     "name": "stdout",
     "output_type": "stream",
     "text": [
      "https://x.com/rohanpaul_ai/status/1894338565338972594 rohanpaul_ai 1894338565338972594\n"
     ]
    },
    {
     "name": "stderr",
     "output_type": "stream",
     "text": [
      "/home/jiezi/miniconda3/envs/ai4fun/lib/python3.10/site-packages/urllib3/connectionpool.py:1097: InsecureRequestWarning: Unverified HTTPS request is being made to host 'x.com'. Adding certificate verification is strongly advised. See: https://urllib3.readthedocs.io/en/latest/advanced-usage.html#tls-warnings\n",
      "  warnings.warn(\n"
     ]
    },
    {
     "name": "stdout",
     "output_type": "stream",
     "text": [
      "https://x.com/rohanpaul_ai/status/1894560324764012736 rohanpaul_ai 1894560324764012736\n"
     ]
    },
    {
     "name": "stderr",
     "output_type": "stream",
     "text": [
      "/home/jiezi/miniconda3/envs/ai4fun/lib/python3.10/site-packages/urllib3/connectionpool.py:1097: InsecureRequestWarning: Unverified HTTPS request is being made to host 'x.com'. Adding certificate verification is strongly advised. See: https://urllib3.readthedocs.io/en/latest/advanced-usage.html#tls-warnings\n",
      "  warnings.warn(\n"
     ]
    },
    {
     "name": "stdout",
     "output_type": "stream",
     "text": [
      "https://x.com/TheTuringPost/status/1894553045222265133 TheTuringPost 1894553045222265133\n"
     ]
    },
    {
     "name": "stderr",
     "output_type": "stream",
     "text": [
      "/home/jiezi/miniconda3/envs/ai4fun/lib/python3.10/site-packages/urllib3/connectionpool.py:1097: InsecureRequestWarning: Unverified HTTPS request is being made to host 'x.com'. Adding certificate verification is strongly advised. See: https://urllib3.readthedocs.io/en/latest/advanced-usage.html#tls-warnings\n",
      "  warnings.warn(\n"
     ]
    },
    {
     "name": "stdout",
     "output_type": "stream",
     "text": [
      "https://x.com/TheTuringPost/status/1894525473583239277 TheTuringPost 1894525473583239277\n"
     ]
    },
    {
     "name": "stderr",
     "output_type": "stream",
     "text": [
      "/home/jiezi/miniconda3/envs/ai4fun/lib/python3.10/site-packages/urllib3/connectionpool.py:1097: InsecureRequestWarning: Unverified HTTPS request is being made to host 'x.com'. Adding certificate verification is strongly advised. See: https://urllib3.readthedocs.io/en/latest/advanced-usage.html#tls-warnings\n",
      "  warnings.warn(\n"
     ]
    },
    {
     "name": "stdout",
     "output_type": "stream",
     "text": [
      "https://x.com/TheTuringPost/status/1894529169096413240 TheTuringPost 1894529169096413240\n"
     ]
    },
    {
     "name": "stderr",
     "output_type": "stream",
     "text": [
      "/home/jiezi/miniconda3/envs/ai4fun/lib/python3.10/site-packages/urllib3/connectionpool.py:1097: InsecureRequestWarning: Unverified HTTPS request is being made to host 'x.com'. Adding certificate verification is strongly advised. See: https://urllib3.readthedocs.io/en/latest/advanced-usage.html#tls-warnings\n",
      "  warnings.warn(\n"
     ]
    },
    {
     "name": "stdout",
     "output_type": "stream",
     "text": [
      "https://x.com/TheTuringPost/status/1894100044716150816 TheTuringPost 1894100044716150816\n"
     ]
    },
    {
     "name": "stderr",
     "output_type": "stream",
     "text": [
      "/home/jiezi/miniconda3/envs/ai4fun/lib/python3.10/site-packages/urllib3/connectionpool.py:1097: InsecureRequestWarning: Unverified HTTPS request is being made to host 'x.com'. Adding certificate verification is strongly advised. See: https://urllib3.readthedocs.io/en/latest/advanced-usage.html#tls-warnings\n",
      "  warnings.warn(\n"
     ]
    },
    {
     "name": "stdout",
     "output_type": "stream",
     "text": [
      "https://x.com/TheTuringPost/status/1894552996195045486 TheTuringPost 1894552996195045486\n"
     ]
    },
    {
     "name": "stderr",
     "output_type": "stream",
     "text": [
      "/home/jiezi/miniconda3/envs/ai4fun/lib/python3.10/site-packages/urllib3/connectionpool.py:1097: InsecureRequestWarning: Unverified HTTPS request is being made to host 'x.com'. Adding certificate verification is strongly advised. See: https://urllib3.readthedocs.io/en/latest/advanced-usage.html#tls-warnings\n",
      "  warnings.warn(\n"
     ]
    },
    {
     "name": "stdout",
     "output_type": "stream",
     "text": [
      "https://x.com/TheTuringPost/status/1894529157075538092 TheTuringPost 1894529157075538092\n"
     ]
    },
    {
     "name": "stderr",
     "output_type": "stream",
     "text": [
      "/home/jiezi/miniconda3/envs/ai4fun/lib/python3.10/site-packages/urllib3/connectionpool.py:1097: InsecureRequestWarning: Unverified HTTPS request is being made to host 'x.com'. Adding certificate verification is strongly advised. See: https://urllib3.readthedocs.io/en/latest/advanced-usage.html#tls-warnings\n",
      "  warnings.warn(\n"
     ]
    },
    {
     "name": "stdout",
     "output_type": "stream",
     "text": [
      "https://x.com/TheTuringPost/status/1894346329780097356 TheTuringPost 1894346329780097356\n"
     ]
    },
    {
     "name": "stderr",
     "output_type": "stream",
     "text": [
      "/home/jiezi/miniconda3/envs/ai4fun/lib/python3.10/site-packages/urllib3/connectionpool.py:1097: InsecureRequestWarning: Unverified HTTPS request is being made to host 'x.com'. Adding certificate verification is strongly advised. See: https://urllib3.readthedocs.io/en/latest/advanced-usage.html#tls-warnings\n",
      "  warnings.warn(\n"
     ]
    },
    {
     "name": "stdout",
     "output_type": "stream",
     "text": [
      "https://x.com/TheTuringPost/status/1894346249907892648 TheTuringPost 1894346249907892648\n"
     ]
    },
    {
     "name": "stderr",
     "output_type": "stream",
     "text": [
      "/home/jiezi/miniconda3/envs/ai4fun/lib/python3.10/site-packages/urllib3/connectionpool.py:1097: InsecureRequestWarning: Unverified HTTPS request is being made to host 'x.com'. Adding certificate verification is strongly advised. See: https://urllib3.readthedocs.io/en/latest/advanced-usage.html#tls-warnings\n",
      "  warnings.warn(\n"
     ]
    },
    {
     "name": "stdout",
     "output_type": "stream",
     "text": [
      "https://x.com/TheTuringPost/status/1893591894309085446 TheTuringPost 1893591894309085446\n"
     ]
    },
    {
     "name": "stderr",
     "output_type": "stream",
     "text": [
      "/home/jiezi/miniconda3/envs/ai4fun/lib/python3.10/site-packages/urllib3/connectionpool.py:1097: InsecureRequestWarning: Unverified HTTPS request is being made to host 'x.com'. Adding certificate verification is strongly advised. See: https://urllib3.readthedocs.io/en/latest/advanced-usage.html#tls-warnings\n",
      "  warnings.warn(\n"
     ]
    },
    {
     "name": "stdout",
     "output_type": "stream",
     "text": [
      "https://x.com/TheTuringPost/status/1894346156656005380 TheTuringPost 1894346156656005380\n"
     ]
    },
    {
     "name": "stderr",
     "output_type": "stream",
     "text": [
      "/home/jiezi/miniconda3/envs/ai4fun/lib/python3.10/site-packages/urllib3/connectionpool.py:1097: InsecureRequestWarning: Unverified HTTPS request is being made to host 'x.com'. Adding certificate verification is strongly advised. See: https://urllib3.readthedocs.io/en/latest/advanced-usage.html#tls-warnings\n",
      "  warnings.warn(\n"
     ]
    },
    {
     "name": "stdout",
     "output_type": "stream",
     "text": [
      "https://x.com/TheTuringPost/status/1894346312545702090 TheTuringPost 1894346312545702090\n"
     ]
    },
    {
     "name": "stderr",
     "output_type": "stream",
     "text": [
      "/home/jiezi/miniconda3/envs/ai4fun/lib/python3.10/site-packages/urllib3/connectionpool.py:1097: InsecureRequestWarning: Unverified HTTPS request is being made to host 'x.com'. Adding certificate verification is strongly advised. See: https://urllib3.readthedocs.io/en/latest/advanced-usage.html#tls-warnings\n",
      "  warnings.warn(\n"
     ]
    },
    {
     "name": "stdout",
     "output_type": "stream",
     "text": [
      "https://x.com/TheTuringPost/status/1893878637247807698 TheTuringPost 1893878637247807698\n"
     ]
    },
    {
     "name": "stderr",
     "output_type": "stream",
     "text": [
      "/home/jiezi/miniconda3/envs/ai4fun/lib/python3.10/site-packages/urllib3/connectionpool.py:1097: InsecureRequestWarning: Unverified HTTPS request is being made to host 'x.com'. Adding certificate verification is strongly advised. See: https://urllib3.readthedocs.io/en/latest/advanced-usage.html#tls-warnings\n",
      "  warnings.warn(\n"
     ]
    },
    {
     "name": "stdout",
     "output_type": "stream",
     "text": [
      "https://x.com/TheTuringPost/status/1894346233474683385 TheTuringPost 1894346233474683385\n"
     ]
    },
    {
     "name": "stderr",
     "output_type": "stream",
     "text": [
      "/home/jiezi/miniconda3/envs/ai4fun/lib/python3.10/site-packages/urllib3/connectionpool.py:1097: InsecureRequestWarning: Unverified HTTPS request is being made to host 'x.com'. Adding certificate verification is strongly advised. See: https://urllib3.readthedocs.io/en/latest/advanced-usage.html#tls-warnings\n",
      "  warnings.warn(\n"
     ]
    },
    {
     "name": "stdout",
     "output_type": "stream",
     "text": [
      "https://x.com/TheTuringPost/status/1893601720212898082 TheTuringPost 1893601720212898082\n"
     ]
    },
    {
     "name": "stderr",
     "output_type": "stream",
     "text": [
      "/home/jiezi/miniconda3/envs/ai4fun/lib/python3.10/site-packages/urllib3/connectionpool.py:1097: InsecureRequestWarning: Unverified HTTPS request is being made to host 'x.com'. Adding certificate verification is strongly advised. See: https://urllib3.readthedocs.io/en/latest/advanced-usage.html#tls-warnings\n",
      "  warnings.warn(\n"
     ]
    },
    {
     "name": "stdout",
     "output_type": "stream",
     "text": [
      "https://x.com/TheTuringPost/status/1893654774119309623 TheTuringPost 1893654774119309623\n"
     ]
    },
    {
     "name": "stderr",
     "output_type": "stream",
     "text": [
      "/home/jiezi/miniconda3/envs/ai4fun/lib/python3.10/site-packages/urllib3/connectionpool.py:1097: InsecureRequestWarning: Unverified HTTPS request is being made to host 'x.com'. Adding certificate verification is strongly advised. See: https://urllib3.readthedocs.io/en/latest/advanced-usage.html#tls-warnings\n",
      "  warnings.warn(\n"
     ]
    },
    {
     "name": "stdout",
     "output_type": "stream",
     "text": [
      "https://x.com/TheTuringPost/status/1894138315852398592 TheTuringPost 1894138315852398592\n"
     ]
    },
    {
     "name": "stderr",
     "output_type": "stream",
     "text": [
      "/home/jiezi/miniconda3/envs/ai4fun/lib/python3.10/site-packages/urllib3/connectionpool.py:1097: InsecureRequestWarning: Unverified HTTPS request is being made to host 'x.com'. Adding certificate verification is strongly advised. See: https://urllib3.readthedocs.io/en/latest/advanced-usage.html#tls-warnings\n",
      "  warnings.warn(\n"
     ]
    },
    {
     "name": "stdout",
     "output_type": "stream",
     "text": [
      "https://x.com/TheTuringPost/status/1894346552082403744 TheTuringPost 1894346552082403744\n"
     ]
    },
    {
     "name": "stderr",
     "output_type": "stream",
     "text": [
      "/home/jiezi/miniconda3/envs/ai4fun/lib/python3.10/site-packages/urllib3/connectionpool.py:1097: InsecureRequestWarning: Unverified HTTPS request is being made to host 'x.com'. Adding certificate verification is strongly advised. See: https://urllib3.readthedocs.io/en/latest/advanced-usage.html#tls-warnings\n",
      "  warnings.warn(\n"
     ]
    },
    {
     "name": "stdout",
     "output_type": "stream",
     "text": [
      "2025-02-26 22:48:36,136 [\u001b[1;31mERROR\u001b[0m] :: 429 Client Error: Too Many Requests for url: https://x.com/i/api/graphql/_y7SZqeOFfgEivILXIy3tQ/TweetResultByRestId?variables=%7B%22tweetId%22%3A+%221894346552082403744%22%2C+%22withCommunity%22%3A+false%2C+%22includePromotedContent%22%3A+false%2C+%22withVoice%22%3A+false%7D&features=%7B%22profile_label_improvements_pcf_label_in_post_enabled%22%3A+true%2C+%22rweb_tipjar_consumption_enabled%22%3A+true%2C+%22responsive_web_graphql_exclude_directive_enabled%22%3A+true%2C+%22verified_phone_label_enabled%22%3A+false%2C+%22creator_subscriptions_tweet_preview_api_enabled%22%3A+true%2C+%22responsive_web_graphql_timeline_navigation_enabled%22%3A+true%2C+%22responsive_web_graphql_skip_user_profile_image_extensions_enabled%22%3A+false%2C+%22premium_content_api_read_enabled%22%3A+false%2C+%22communities_web_enable_tweet_community_results_fetch%22%3A+true%2C+%22c9s_tweet_anatomy_moderator_badge_enabled%22%3A+true%2C+%22responsive_web_grok_analyze_button_fetch_trends_enabled%22%3A+false%2C+%22responsive_web_grok_analyze_post_followups_enabled%22%3A+false%2C+%22responsive_web_jetfuel_frame%22%3A+false%2C+%22responsive_web_grok_share_attachment_enabled%22%3A+true%2C+%22articles_preview_enabled%22%3A+true%2C+%22responsive_web_edit_tweet_api_enabled%22%3A+true%2C+%22graphql_is_translatable_rweb_tweet_is_translatable_enabled%22%3A+true%2C+%22view_counts_everywhere_api_enabled%22%3A+true%2C+%22longform_notetweets_consumption_enabled%22%3A+true%2C+%22responsive_web_twitter_article_tweet_consumption_enabled%22%3A+true%2C+%22tweet_awards_web_tipping_enabled%22%3A+false%2C+%22responsive_web_grok_analysis_button_from_backend%22%3A+false%2C+%22creator_subscriptions_quote_tweet_preview_enabled%22%3A+false%2C+%22freedom_of_speech_not_reach_fetch_enabled%22%3A+true%2C+%22standardized_nudges_misinfo%22%3A+true%2C+%22tweet_with_visibility_results_prefer_gql_limited_actions_policy_enabled%22%3A+true%2C+%22rweb_video_timestamps_enabled%22%3A+true%2C+%22longform_notetweets_rich_text_read_enabled%22%3A+true%2C+%22longform_notetweets_inline_media_enabled%22%3A+true%2C+%22responsive_web_grok_image_annotation_enabled%22%3A+false%2C+%22responsive_web_enhance_cards_enabled%22%3A+false%7D\n",
      "Rate limit exceeded\n",
      "Traceback (most recent call last):\n",
      "  File \"/home/jiezi/miniconda3/envs/ai4fun/lib/python3.10/site-packages/tweeterpy/utils/request.py\", line 44, in request\n",
      "    response.raise_for_status()\n",
      "  File \"/home/jiezi/miniconda3/envs/ai4fun/lib/python3.10/site-packages/requests/models.py\", line 1024, in raise_for_status\n",
      "    raise HTTPError(http_error_msg, response=self)\n",
      "requests.exceptions.HTTPError: 429 Client Error: Too Many Requests for url: https://x.com/i/api/graphql/_y7SZqeOFfgEivILXIy3tQ/TweetResultByRestId?variables=%7B%22tweetId%22%3A+%221894346552082403744%22%2C+%22withCommunity%22%3A+false%2C+%22includePromotedContent%22%3A+false%2C+%22withVoice%22%3A+false%7D&features=%7B%22profile_label_improvements_pcf_label_in_post_enabled%22%3A+true%2C+%22rweb_tipjar_consumption_enabled%22%3A+true%2C+%22responsive_web_graphql_exclude_directive_enabled%22%3A+true%2C+%22verified_phone_label_enabled%22%3A+false%2C+%22creator_subscriptions_tweet_preview_api_enabled%22%3A+true%2C+%22responsive_web_graphql_timeline_navigation_enabled%22%3A+true%2C+%22responsive_web_graphql_skip_user_profile_image_extensions_enabled%22%3A+false%2C+%22premium_content_api_read_enabled%22%3A+false%2C+%22communities_web_enable_tweet_community_results_fetch%22%3A+true%2C+%22c9s_tweet_anatomy_moderator_badge_enabled%22%3A+true%2C+%22responsive_web_grok_analyze_button_fetch_trends_enabled%22%3A+false%2C+%22responsive_web_grok_analyze_post_followups_enabled%22%3A+false%2C+%22responsive_web_jetfuel_frame%22%3A+false%2C+%22responsive_web_grok_share_attachment_enabled%22%3A+true%2C+%22articles_preview_enabled%22%3A+true%2C+%22responsive_web_edit_tweet_api_enabled%22%3A+true%2C+%22graphql_is_translatable_rweb_tweet_is_translatable_enabled%22%3A+true%2C+%22view_counts_everywhere_api_enabled%22%3A+true%2C+%22longform_notetweets_consumption_enabled%22%3A+true%2C+%22responsive_web_twitter_article_tweet_consumption_enabled%22%3A+true%2C+%22tweet_awards_web_tipping_enabled%22%3A+false%2C+%22responsive_web_grok_analysis_button_from_backend%22%3A+false%2C+%22creator_subscriptions_quote_tweet_preview_enabled%22%3A+false%2C+%22freedom_of_speech_not_reach_fetch_enabled%22%3A+true%2C+%22standardized_nudges_misinfo%22%3A+true%2C+%22tweet_with_visibility_results_prefer_gql_limited_actions_policy_enabled%22%3A+true%2C+%22rweb_video_timestamps_enabled%22%3A+true%2C+%22longform_notetweets_rich_text_read_enabled%22%3A+true%2C+%22longform_notetweets_inline_media_enabled%22%3A+true%2C+%22responsive_web_grok_image_annotation_enabled%22%3A+false%2C+%22responsive_web_enhance_cards_enabled%22%3A+false%7D\n",
      "2025-02-26 22:48:36,137 [\u001b[1;31mERROR\u001b[0m] :: Rate Limit Exceeded => {'total_limit': 50, 'remaining_requests_count': 0, 'resets_after': '0 Hours, 14 Minutes, 40.86 Seconds', 'reset_after_datetime_object': datetime.timedelta(seconds=880, microseconds=864509), 'rate_limit_exhausted': True}\n",
      "2025-02-26 22:48:36,138 [\u001b[0;33mWARNING\u001b[0m] :: Rate limit hit for tweet ID '1894346552082403744' using proxy 184.169.154.119:80, retrying with proxy rotation... (Attempt 1/5)\n"
     ]
    },
    {
     "name": "stderr",
     "output_type": "stream",
     "text": [
      "/home/jiezi/miniconda3/envs/ai4fun/lib/python3.10/site-packages/urllib3/connectionpool.py:1097: InsecureRequestWarning: Unverified HTTPS request is being made to host 'x.com'. Adding certificate verification is strongly advised. See: https://urllib3.readthedocs.io/en/latest/advanced-usage.html#tls-warnings\n",
      "  warnings.warn(\n",
      "/home/jiezi/miniconda3/envs/ai4fun/lib/python3.10/site-packages/urllib3/connectionpool.py:1097: InsecureRequestWarning: Unverified HTTPS request is being made to host 'api.x.com'. Adding certificate verification is strongly advised. See: https://urllib3.readthedocs.io/en/latest/advanced-usage.html#tls-warnings\n",
      "  warnings.warn(\n"
     ]
    },
    {
     "name": "stdout",
     "output_type": "stream",
     "text": [
      "2025-02-26 22:48:42,827 [\u001b[0;33mWARNING\u001b[0m] :: Skipping API Updates. Couldn't get the latest API data.\n"
     ]
    },
    {
     "name": "stderr",
     "output_type": "stream",
     "text": [
      "/home/jiezi/miniconda3/envs/ai4fun/lib/python3.10/site-packages/urllib3/connectionpool.py:1097: InsecureRequestWarning: Unverified HTTPS request is being made to host 'x.com'. Adding certificate verification is strongly advised. See: https://urllib3.readthedocs.io/en/latest/advanced-usage.html#tls-warnings\n",
      "  warnings.warn(\n"
     ]
    },
    {
     "name": "stdout",
     "output_type": "stream",
     "text": [
      "2025-02-26 22:48:43,074 [\u001b[1;31mERROR\u001b[0m] :: 404 Client Error: Not Found for url: https://x.com/i/api/graphql/32pL5BWe9WKeSK1MoPvFQQ/UserByScreenName?variables=%7B%22screen_name%22%3A+%22elonmask%22%2C+%22withSafetyModeUserFields%22%3A+true%7D&features=%7B%22hidden_profile_subscriptions_enabled%22%3A+true%2C+%22profile_label_improvements_pcf_label_in_post_enabled%22%3A+true%2C+%22rweb_tipjar_consumption_enabled%22%3A+true%2C+%22responsive_web_graphql_exclude_directive_enabled%22%3A+true%2C+%22verified_phone_label_enabled%22%3A+false%2C+%22subscriptions_verification_info_is_identity_verified_enabled%22%3A+true%2C+%22subscriptions_verification_info_verified_since_enabled%22%3A+true%2C+%22highlights_tweets_tab_ui_enabled%22%3A+true%2C+%22responsive_web_twitter_article_notes_tab_enabled%22%3A+true%2C+%22subscriptions_feature_can_gift_premium%22%3A+false%2C+%22creator_subscriptions_tweet_preview_api_enabled%22%3A+true%2C+%22responsive_web_graphql_skip_user_profile_image_extensions_enabled%22%3A+false%2C+%22responsive_web_graphql_timeline_navigation_enabled%22%3A+true%7D\n",
      "\n",
      "Traceback (most recent call last):\n",
      "  File \"/home/jiezi/miniconda3/envs/ai4fun/lib/python3.10/site-packages/tweeterpy/utils/request.py\", line 44, in request\n",
      "    response.raise_for_status()\n",
      "  File \"/home/jiezi/miniconda3/envs/ai4fun/lib/python3.10/site-packages/requests/models.py\", line 1024, in raise_for_status\n",
      "    raise HTTPError(http_error_msg, response=self)\n",
      "requests.exceptions.HTTPError: 429 Client Error: Too Many Requests for url: https://x.com/i/api/graphql/_y7SZqeOFfgEivILXIy3tQ/TweetResultByRestId?variables=%7B%22tweetId%22%3A+%221894346552082403744%22%2C+%22withCommunity%22%3A+false%2C+%22includePromotedContent%22%3A+false%2C+%22withVoice%22%3A+false%7D&features=%7B%22profile_label_improvements_pcf_label_in_post_enabled%22%3A+true%2C+%22rweb_tipjar_consumption_enabled%22%3A+true%2C+%22responsive_web_graphql_exclude_directive_enabled%22%3A+true%2C+%22verified_phone_label_enabled%22%3A+false%2C+%22creator_subscriptions_tweet_preview_api_enabled%22%3A+true%2C+%22responsive_web_graphql_timeline_navigation_enabled%22%3A+true%2C+%22responsive_web_graphql_skip_user_profile_image_extensions_enabled%22%3A+false%2C+%22premium_content_api_read_enabled%22%3A+false%2C+%22communities_web_enable_tweet_community_results_fetch%22%3A+true%2C+%22c9s_tweet_anatomy_moderator_badge_enabled%22%3A+true%2C+%22responsive_web_grok_analyze_button_fetch_trends_enabled%22%3A+false%2C+%22responsive_web_grok_analyze_post_followups_enabled%22%3A+false%2C+%22responsive_web_jetfuel_frame%22%3A+false%2C+%22responsive_web_grok_share_attachment_enabled%22%3A+true%2C+%22articles_preview_enabled%22%3A+true%2C+%22responsive_web_edit_tweet_api_enabled%22%3A+true%2C+%22graphql_is_translatable_rweb_tweet_is_translatable_enabled%22%3A+true%2C+%22view_counts_everywhere_api_enabled%22%3A+true%2C+%22longform_notetweets_consumption_enabled%22%3A+true%2C+%22responsive_web_twitter_article_tweet_consumption_enabled%22%3A+true%2C+%22tweet_awards_web_tipping_enabled%22%3A+false%2C+%22responsive_web_grok_analysis_button_from_backend%22%3A+false%2C+%22creator_subscriptions_quote_tweet_preview_enabled%22%3A+false%2C+%22freedom_of_speech_not_reach_fetch_enabled%22%3A+true%2C+%22standardized_nudges_misinfo%22%3A+true%2C+%22tweet_with_visibility_results_prefer_gql_limited_actions_policy_enabled%22%3A+true%2C+%22rweb_video_timestamps_enabled%22%3A+true%2C+%22longform_notetweets_rich_text_read_enabled%22%3A+true%2C+%22longform_notetweets_inline_media_enabled%22%3A+true%2C+%22responsive_web_grok_image_annotation_enabled%22%3A+false%2C+%22responsive_web_enhance_cards_enabled%22%3A+false%7D\n",
      "\n",
      "During handling of the above exception, another exception occurred:\n",
      "\n",
      "Traceback (most recent call last):\n",
      "  File \"/tmp/ipykernel_32042/1054460480.py\", line 240, in get_tweet_by_id\n",
      "    tweet_info = self.tweeterpy_client.get_tweet(tweet_id)\n",
      "  File \"/home/jiezi/miniconda3/envs/ai4fun/lib/python3.10/site-packages/tweeterpy/tweeterpy.py\", line 442, in get_tweet\n",
      "    return self.request_client.request(**request_payload)\n",
      "  File \"/home/jiezi/miniconda3/envs/ai4fun/lib/python3.10/site-packages/tweeterpy/utils/request.py\", line 53, in request\n",
      "    raise util.RateLimitError('API Rate Limit Exceeded.')\n",
      "tweeterpy.util.RateLimitError: API Rate Limit Exceeded.\n",
      "\n",
      "During handling of the above exception, another exception occurred:\n",
      "\n",
      "Traceback (most recent call last):\n",
      "  File \"/home/jiezi/miniconda3/envs/ai4fun/lib/python3.10/site-packages/tweeterpy/utils/request.py\", line 44, in request\n",
      "    response.raise_for_status()\n",
      "  File \"/home/jiezi/miniconda3/envs/ai4fun/lib/python3.10/site-packages/requests/models.py\", line 1024, in raise_for_status\n",
      "    raise HTTPError(http_error_msg, response=self)\n",
      "requests.exceptions.HTTPError: 404 Client Error: Not Found for url: https://x.com/i/api/graphql/32pL5BWe9WKeSK1MoPvFQQ/UserByScreenName?variables=%7B%22screen_name%22%3A+%22elonmask%22%2C+%22withSafetyModeUserFields%22%3A+true%7D&features=%7B%22hidden_profile_subscriptions_enabled%22%3A+true%2C+%22profile_label_improvements_pcf_label_in_post_enabled%22%3A+true%2C+%22rweb_tipjar_consumption_enabled%22%3A+true%2C+%22responsive_web_graphql_exclude_directive_enabled%22%3A+true%2C+%22verified_phone_label_enabled%22%3A+false%2C+%22subscriptions_verification_info_is_identity_verified_enabled%22%3A+true%2C+%22subscriptions_verification_info_verified_since_enabled%22%3A+true%2C+%22highlights_tweets_tab_ui_enabled%22%3A+true%2C+%22responsive_web_twitter_article_notes_tab_enabled%22%3A+true%2C+%22subscriptions_feature_can_gift_premium%22%3A+false%2C+%22creator_subscriptions_tweet_preview_api_enabled%22%3A+true%2C+%22responsive_web_graphql_skip_user_profile_image_extensions_enabled%22%3A+false%2C+%22responsive_web_graphql_timeline_navigation_enabled%22%3A+true%7D\n",
      "2025-02-26 22:48:43,075 [\u001b[0;33mWARNING\u001b[0m] :: Error loading client with proxy 3.212.148.199:3128: 404 Client Error: Not Found for url: https://x.com/i/api/graphql/32pL5BWe9WKeSK1MoPvFQQ/UserByScreenName?variables=%7B%22screen_name%22%3A+%22elonmask%22%2C+%22withSafetyModeUserFields%22%3A+true%7D&features=%7B%22hidden_profile_subscriptions_enabled%22%3A+true%2C+%22profile_label_improvements_pcf_label_in_post_enabled%22%3A+true%2C+%22rweb_tipjar_consumption_enabled%22%3A+true%2C+%22responsive_web_graphql_exclude_directive_enabled%22%3A+true%2C+%22verified_phone_label_enabled%22%3A+false%2C+%22subscriptions_verification_info_is_identity_verified_enabled%22%3A+true%2C+%22subscriptions_verification_info_verified_since_enabled%22%3A+true%2C+%22highlights_tweets_tab_ui_enabled%22%3A+true%2C+%22responsive_web_twitter_article_notes_tab_enabled%22%3A+true%2C+%22subscriptions_feature_can_gift_premium%22%3A+false%2C+%22creator_subscriptions_tweet_preview_api_enabled%22%3A+true%2C+%22responsive_web_graphql_skip_user_profile_image_extensions_enabled%22%3A+false%2C+%22responsive_web_graphql_timeline_navigation_enabled%22%3A+true%7D\n"
     ]
    },
    {
     "name": "stderr",
     "output_type": "stream",
     "text": [
      "/home/jiezi/miniconda3/envs/ai4fun/lib/python3.10/site-packages/urllib3/connectionpool.py:1097: InsecureRequestWarning: Unverified HTTPS request is being made to host 'x.com'. Adding certificate verification is strongly advised. See: https://urllib3.readthedocs.io/en/latest/advanced-usage.html#tls-warnings\n",
      "  warnings.warn(\n",
      "/home/jiezi/miniconda3/envs/ai4fun/lib/python3.10/site-packages/urllib3/connectionpool.py:1097: InsecureRequestWarning: Unverified HTTPS request is being made to host 'api.x.com'. Adding certificate verification is strongly advised. See: https://urllib3.readthedocs.io/en/latest/advanced-usage.html#tls-warnings\n",
      "  warnings.warn(\n"
     ]
    },
    {
     "name": "stdout",
     "output_type": "stream",
     "text": [
      "2025-02-26 22:48:47,157 [\u001b[0;33mWARNING\u001b[0m] :: Skipping API Updates. Couldn't get the latest API data.\n"
     ]
    },
    {
     "name": "stderr",
     "output_type": "stream",
     "text": [
      "/home/jiezi/miniconda3/envs/ai4fun/lib/python3.10/site-packages/urllib3/connectionpool.py:1097: InsecureRequestWarning: Unverified HTTPS request is being made to host 'x.com'. Adding certificate verification is strongly advised. See: https://urllib3.readthedocs.io/en/latest/advanced-usage.html#tls-warnings\n",
      "  warnings.warn(\n",
      "/home/jiezi/miniconda3/envs/ai4fun/lib/python3.10/site-packages/urllib3/connectionpool.py:1097: InsecureRequestWarning: Unverified HTTPS request is being made to host 'x.com'. Adding certificate verification is strongly advised. See: https://urllib3.readthedocs.io/en/latest/advanced-usage.html#tls-warnings\n",
      "  warnings.warn(\n"
     ]
    },
    {
     "name": "stdout",
     "output_type": "stream",
     "text": [
      "https://x.com/TheTuringPost/status/1894346295709765767 TheTuringPost 1894346295709765767\n"
     ]
    },
    {
     "name": "stderr",
     "output_type": "stream",
     "text": [
      "/home/jiezi/miniconda3/envs/ai4fun/lib/python3.10/site-packages/urllib3/connectionpool.py:1097: InsecureRequestWarning: Unverified HTTPS request is being made to host 'x.com'. Adding certificate verification is strongly advised. See: https://urllib3.readthedocs.io/en/latest/advanced-usage.html#tls-warnings\n",
      "  warnings.warn(\n"
     ]
    },
    {
     "name": "stdout",
     "output_type": "stream",
     "text": [
      "https://x.com/TheTuringPost/status/1894189869649518911 TheTuringPost 1894189869649518911\n"
     ]
    },
    {
     "name": "stderr",
     "output_type": "stream",
     "text": [
      "/home/jiezi/miniconda3/envs/ai4fun/lib/python3.10/site-packages/urllib3/connectionpool.py:1097: InsecureRequestWarning: Unverified HTTPS request is being made to host 'x.com'. Adding certificate verification is strongly advised. See: https://urllib3.readthedocs.io/en/latest/advanced-usage.html#tls-warnings\n",
      "  warnings.warn(\n"
     ]
    },
    {
     "name": "stdout",
     "output_type": "stream",
     "text": [
      "https://x.com/TheTuringPost/status/1894189790603743633 TheTuringPost 1894189790603743633\n"
     ]
    },
    {
     "name": "stderr",
     "output_type": "stream",
     "text": [
      "/home/jiezi/miniconda3/envs/ai4fun/lib/python3.10/site-packages/urllib3/connectionpool.py:1097: InsecureRequestWarning: Unverified HTTPS request is being made to host 'x.com'. Adding certificate verification is strongly advised. See: https://urllib3.readthedocs.io/en/latest/advanced-usage.html#tls-warnings\n",
      "  warnings.warn(\n"
     ]
    },
    {
     "name": "stdout",
     "output_type": "stream",
     "text": [
      "https://x.com/dair_ai/status/1894419591780340065 dair_ai 1894419591780340065\n"
     ]
    },
    {
     "name": "stderr",
     "output_type": "stream",
     "text": [
      "/home/jiezi/miniconda3/envs/ai4fun/lib/python3.10/site-packages/urllib3/connectionpool.py:1097: InsecureRequestWarning: Unverified HTTPS request is being made to host 'x.com'. Adding certificate verification is strongly advised. See: https://urllib3.readthedocs.io/en/latest/advanced-usage.html#tls-warnings\n",
      "  warnings.warn(\n"
     ]
    },
    {
     "name": "stdout",
     "output_type": "stream",
     "text": [
      "https://x.com/dair_ai/status/1894419604581261452 dair_ai 1894419604581261452\n"
     ]
    },
    {
     "name": "stderr",
     "output_type": "stream",
     "text": [
      "/home/jiezi/miniconda3/envs/ai4fun/lib/python3.10/site-packages/urllib3/connectionpool.py:1097: InsecureRequestWarning: Unverified HTTPS request is being made to host 'x.com'. Adding certificate verification is strongly advised. See: https://urllib3.readthedocs.io/en/latest/advanced-usage.html#tls-warnings\n",
      "  warnings.warn(\n"
     ]
    },
    {
     "name": "stdout",
     "output_type": "stream",
     "text": [
      "https://x.com/dair_ai/status/1893698299443503597 dair_ai 1893698299443503597\n"
     ]
    },
    {
     "name": "stderr",
     "output_type": "stream",
     "text": [
      "/home/jiezi/miniconda3/envs/ai4fun/lib/python3.10/site-packages/urllib3/connectionpool.py:1097: InsecureRequestWarning: Unverified HTTPS request is being made to host 'x.com'. Adding certificate verification is strongly advised. See: https://urllib3.readthedocs.io/en/latest/advanced-usage.html#tls-warnings\n",
      "  warnings.warn(\n"
     ]
    },
    {
     "name": "stdout",
     "output_type": "stream",
     "text": [
      "https://x.com/dair_ai/status/1893698281525407910 dair_ai 1893698281525407910\n"
     ]
    },
    {
     "name": "stderr",
     "output_type": "stream",
     "text": [
      "/home/jiezi/miniconda3/envs/ai4fun/lib/python3.10/site-packages/urllib3/connectionpool.py:1097: InsecureRequestWarning: Unverified HTTPS request is being made to host 'x.com'. Adding certificate verification is strongly advised. See: https://urllib3.readthedocs.io/en/latest/advanced-usage.html#tls-warnings\n",
      "  warnings.warn(\n"
     ]
    },
    {
     "name": "stdout",
     "output_type": "stream",
     "text": [
      "https://x.com/dair_ai/status/1893698297744785708 dair_ai 1893698297744785708\n"
     ]
    },
    {
     "name": "stderr",
     "output_type": "stream",
     "text": [
      "/home/jiezi/miniconda3/envs/ai4fun/lib/python3.10/site-packages/urllib3/connectionpool.py:1097: InsecureRequestWarning: Unverified HTTPS request is being made to host 'x.com'. Adding certificate verification is strongly advised. See: https://urllib3.readthedocs.io/en/latest/advanced-usage.html#tls-warnings\n",
      "  warnings.warn(\n"
     ]
    },
    {
     "name": "stdout",
     "output_type": "stream",
     "text": [
      "https://x.com/dair_ai/status/1893698282917965824 dair_ai 1893698282917965824\n"
     ]
    },
    {
     "name": "stderr",
     "output_type": "stream",
     "text": [
      "/home/jiezi/miniconda3/envs/ai4fun/lib/python3.10/site-packages/urllib3/connectionpool.py:1097: InsecureRequestWarning: Unverified HTTPS request is being made to host 'x.com'. Adding certificate verification is strongly advised. See: https://urllib3.readthedocs.io/en/latest/advanced-usage.html#tls-warnings\n",
      "  warnings.warn(\n"
     ]
    },
    {
     "name": "stdout",
     "output_type": "stream",
     "text": [
      "https://x.com/dair_ai/status/1893702081883566368 dair_ai 1893702081883566368\n"
     ]
    },
    {
     "name": "stderr",
     "output_type": "stream",
     "text": [
      "/home/jiezi/miniconda3/envs/ai4fun/lib/python3.10/site-packages/urllib3/connectionpool.py:1097: InsecureRequestWarning: Unverified HTTPS request is being made to host 'x.com'. Adding certificate verification is strongly advised. See: https://urllib3.readthedocs.io/en/latest/advanced-usage.html#tls-warnings\n",
      "  warnings.warn(\n"
     ]
    },
    {
     "name": "stdout",
     "output_type": "stream",
     "text": [
      "https://x.com/omarsar0/status/1894485767428202977 omarsar0 1894485767428202977\n"
     ]
    },
    {
     "name": "stderr",
     "output_type": "stream",
     "text": [
      "/home/jiezi/miniconda3/envs/ai4fun/lib/python3.10/site-packages/urllib3/connectionpool.py:1097: InsecureRequestWarning: Unverified HTTPS request is being made to host 'x.com'. Adding certificate verification is strongly advised. See: https://urllib3.readthedocs.io/en/latest/advanced-usage.html#tls-warnings\n",
      "  warnings.warn(\n"
     ]
    },
    {
     "name": "stdout",
     "output_type": "stream",
     "text": [
      "https://x.com/omarsar0/status/1894575555455926631 omarsar0 1894575555455926631\n"
     ]
    },
    {
     "name": "stderr",
     "output_type": "stream",
     "text": [
      "/home/jiezi/miniconda3/envs/ai4fun/lib/python3.10/site-packages/urllib3/connectionpool.py:1097: InsecureRequestWarning: Unverified HTTPS request is being made to host 'x.com'. Adding certificate verification is strongly advised. See: https://urllib3.readthedocs.io/en/latest/advanced-usage.html#tls-warnings\n",
      "  warnings.warn(\n"
     ]
    },
    {
     "name": "stdout",
     "output_type": "stream",
     "text": [
      "https://x.com/omarsar0/status/1894145008556519602 omarsar0 1894145008556519602\n"
     ]
    },
    {
     "name": "stderr",
     "output_type": "stream",
     "text": [
      "/home/jiezi/miniconda3/envs/ai4fun/lib/python3.10/site-packages/urllib3/connectionpool.py:1097: InsecureRequestWarning: Unverified HTTPS request is being made to host 'x.com'. Adding certificate verification is strongly advised. See: https://urllib3.readthedocs.io/en/latest/advanced-usage.html#tls-warnings\n",
      "  warnings.warn(\n"
     ]
    },
    {
     "name": "stdout",
     "output_type": "stream",
     "text": [
      "https://x.com/omarsar0/status/1894531867728138291 omarsar0 1894531867728138291\n"
     ]
    },
    {
     "name": "stderr",
     "output_type": "stream",
     "text": [
      "/home/jiezi/miniconda3/envs/ai4fun/lib/python3.10/site-packages/urllib3/connectionpool.py:1097: InsecureRequestWarning: Unverified HTTPS request is being made to host 'x.com'. Adding certificate verification is strongly advised. See: https://urllib3.readthedocs.io/en/latest/advanced-usage.html#tls-warnings\n",
      "  warnings.warn(\n"
     ]
    },
    {
     "name": "stdout",
     "output_type": "stream",
     "text": [
      "https://x.com/omarsar0/status/1894148258957598885 omarsar0 1894148258957598885\n"
     ]
    },
    {
     "name": "stderr",
     "output_type": "stream",
     "text": [
      "/home/jiezi/miniconda3/envs/ai4fun/lib/python3.10/site-packages/urllib3/connectionpool.py:1097: InsecureRequestWarning: Unverified HTTPS request is being made to host 'x.com'. Adding certificate verification is strongly advised. See: https://urllib3.readthedocs.io/en/latest/advanced-usage.html#tls-warnings\n",
      "  warnings.warn(\n"
     ]
    },
    {
     "name": "stdout",
     "output_type": "stream",
     "text": [
      "https://x.com/omarsar0/status/1894412798282915994 omarsar0 1894412798282915994\n"
     ]
    },
    {
     "name": "stderr",
     "output_type": "stream",
     "text": [
      "/home/jiezi/miniconda3/envs/ai4fun/lib/python3.10/site-packages/urllib3/connectionpool.py:1097: InsecureRequestWarning: Unverified HTTPS request is being made to host 'x.com'. Adding certificate verification is strongly advised. See: https://urllib3.readthedocs.io/en/latest/advanced-usage.html#tls-warnings\n",
      "  warnings.warn(\n"
     ]
    },
    {
     "name": "stdout",
     "output_type": "stream",
     "text": [
      "https://x.com/omarsar0/status/1894412810983280707 omarsar0 1894412810983280707\n"
     ]
    },
    {
     "name": "stderr",
     "output_type": "stream",
     "text": [
      "/home/jiezi/miniconda3/envs/ai4fun/lib/python3.10/site-packages/urllib3/connectionpool.py:1097: InsecureRequestWarning: Unverified HTTPS request is being made to host 'x.com'. Adding certificate verification is strongly advised. See: https://urllib3.readthedocs.io/en/latest/advanced-usage.html#tls-warnings\n",
      "  warnings.warn(\n"
     ]
    },
    {
     "name": "stdout",
     "output_type": "stream",
     "text": [
      "https://x.com/omarsar0/status/1894166485922185726 omarsar0 1894166485922185726\n"
     ]
    },
    {
     "name": "stderr",
     "output_type": "stream",
     "text": [
      "/home/jiezi/miniconda3/envs/ai4fun/lib/python3.10/site-packages/urllib3/connectionpool.py:1097: InsecureRequestWarning: Unverified HTTPS request is being made to host 'x.com'. Adding certificate verification is strongly advised. See: https://urllib3.readthedocs.io/en/latest/advanced-usage.html#tls-warnings\n",
      "  warnings.warn(\n"
     ]
    },
    {
     "name": "stdout",
     "output_type": "stream",
     "text": [
      "https://x.com/omarsar0/status/1894485765448495218 omarsar0 1894485765448495218\n"
     ]
    },
    {
     "name": "stderr",
     "output_type": "stream",
     "text": [
      "/home/jiezi/miniconda3/envs/ai4fun/lib/python3.10/site-packages/urllib3/connectionpool.py:1097: InsecureRequestWarning: Unverified HTTPS request is being made to host 'x.com'. Adding certificate verification is strongly advised. See: https://urllib3.readthedocs.io/en/latest/advanced-usage.html#tls-warnings\n",
      "  warnings.warn(\n"
     ]
    },
    {
     "name": "stdout",
     "output_type": "stream",
     "text": [
      "https://x.com/omarsar0/status/1894168517336838169 omarsar0 1894168517336838169\n"
     ]
    },
    {
     "name": "stderr",
     "output_type": "stream",
     "text": [
      "/home/jiezi/miniconda3/envs/ai4fun/lib/python3.10/site-packages/urllib3/connectionpool.py:1097: InsecureRequestWarning: Unverified HTTPS request is being made to host 'x.com'. Adding certificate verification is strongly advised. See: https://urllib3.readthedocs.io/en/latest/advanced-usage.html#tls-warnings\n",
      "  warnings.warn(\n"
     ]
    },
    {
     "name": "stdout",
     "output_type": "stream",
     "text": [
      "https://x.com/omarsar0/status/1894149742864531728 omarsar0 1894149742864531728\n"
     ]
    },
    {
     "name": "stderr",
     "output_type": "stream",
     "text": [
      "/home/jiezi/miniconda3/envs/ai4fun/lib/python3.10/site-packages/urllib3/connectionpool.py:1097: InsecureRequestWarning: Unverified HTTPS request is being made to host 'x.com'. Adding certificate verification is strongly advised. See: https://urllib3.readthedocs.io/en/latest/advanced-usage.html#tls-warnings\n",
      "  warnings.warn(\n"
     ]
    },
    {
     "name": "stdout",
     "output_type": "stream",
     "text": [
      "https://x.com/omarsar0/status/1894068796522205203 omarsar0 1894068796522205203\n"
     ]
    },
    {
     "name": "stderr",
     "output_type": "stream",
     "text": [
      "/home/jiezi/miniconda3/envs/ai4fun/lib/python3.10/site-packages/urllib3/connectionpool.py:1097: InsecureRequestWarning: Unverified HTTPS request is being made to host 'x.com'. Adding certificate verification is strongly advised. See: https://urllib3.readthedocs.io/en/latest/advanced-usage.html#tls-warnings\n",
      "  warnings.warn(\n"
     ]
    },
    {
     "name": "stdout",
     "output_type": "stream",
     "text": [
      "https://x.com/omarsar0/status/1894164720862523651 omarsar0 1894164720862523651\n"
     ]
    },
    {
     "name": "stderr",
     "output_type": "stream",
     "text": [
      "/home/jiezi/miniconda3/envs/ai4fun/lib/python3.10/site-packages/urllib3/connectionpool.py:1097: InsecureRequestWarning: Unverified HTTPS request is being made to host 'x.com'. Adding certificate verification is strongly advised. See: https://urllib3.readthedocs.io/en/latest/advanced-usage.html#tls-warnings\n",
      "  warnings.warn(\n"
     ]
    },
    {
     "name": "stdout",
     "output_type": "stream",
     "text": [
      "https://x.com/omarsar0/status/1894137090608157077 omarsar0 1894137090608157077\n"
     ]
    },
    {
     "name": "stderr",
     "output_type": "stream",
     "text": [
      "/home/jiezi/miniconda3/envs/ai4fun/lib/python3.10/site-packages/urllib3/connectionpool.py:1097: InsecureRequestWarning: Unverified HTTPS request is being made to host 'x.com'. Adding certificate verification is strongly advised. See: https://urllib3.readthedocs.io/en/latest/advanced-usage.html#tls-warnings\n",
      "  warnings.warn(\n"
     ]
    },
    {
     "name": "stdout",
     "output_type": "stream",
     "text": [
      "https://x.com/omarsar0/status/1894068783700218205 omarsar0 1894068783700218205\n"
     ]
    },
    {
     "name": "stderr",
     "output_type": "stream",
     "text": [
      "/home/jiezi/miniconda3/envs/ai4fun/lib/python3.10/site-packages/urllib3/connectionpool.py:1097: InsecureRequestWarning: Unverified HTTPS request is being made to host 'x.com'. Adding certificate verification is strongly advised. See: https://urllib3.readthedocs.io/en/latest/advanced-usage.html#tls-warnings\n",
      "  warnings.warn(\n"
     ]
    },
    {
     "name": "stdout",
     "output_type": "stream",
     "text": [
      "https://x.com/omarsar0/status/1482385759940263937 omarsar0 1482385759940263937\n"
     ]
    },
    {
     "name": "stderr",
     "output_type": "stream",
     "text": [
      "/home/jiezi/miniconda3/envs/ai4fun/lib/python3.10/site-packages/urllib3/connectionpool.py:1097: InsecureRequestWarning: Unverified HTTPS request is being made to host 'x.com'. Adding certificate verification is strongly advised. See: https://urllib3.readthedocs.io/en/latest/advanced-usage.html#tls-warnings\n",
      "  warnings.warn(\n"
     ]
    },
    {
     "name": "stdout",
     "output_type": "stream",
     "text": [
      "https://x.com/omarsar0/status/1894485765448495218?t=100 omarsar0 1894485765448495218\n"
     ]
    },
    {
     "name": "stderr",
     "output_type": "stream",
     "text": [
      "/home/jiezi/miniconda3/envs/ai4fun/lib/python3.10/site-packages/urllib3/connectionpool.py:1097: InsecureRequestWarning: Unverified HTTPS request is being made to host 'x.com'. Adding certificate verification is strongly advised. See: https://urllib3.readthedocs.io/en/latest/advanced-usage.html#tls-warnings\n",
      "  warnings.warn(\n"
     ]
    }
   ],
   "source": [
    "tweets_data, accts_data = [], []\n",
    "\n",
    "for idx, results in enumerate(all_results):\n",
    "    screen_nm = followed_accts[idx]\n",
    "    user_tweets_tasks = [] # 存储用户推文的异步任务列表\n",
    "    for rslt in results:\n",
    "        url = rslt.get('url')\n",
    "        match = match = re.match(r'https://x\\.com/([^/]+)/status/(\\d+)(?:\\?.*)?', url)\n",
    "        if match:\n",
    "            if match.group(1) == screen_nm:\n",
    "                tweet_id = match.group(2)\n",
    "                print(url, screen_nm, tweet_id)\n",
    "                tweet_data, acct_data = twitter.get_tweet_by_id(tweet_id)\n",
    "                tweets_data.append(tweet_data)\n",
    "                accts_data.append(acct_data)\n"
   ]
  },
  {
   "cell_type": "code",
   "execution_count": 29,
   "metadata": {},
   "outputs": [],
   "source": [
    "for item in tweets_data:\n",
    "    if item is None:\n",
    "        print(\"na\")"
   ]
  },
  {
   "cell_type": "code",
   "execution_count": null,
   "metadata": {},
   "outputs": [],
   "source": []
  }
 ],
 "metadata": {
  "kernelspec": {
   "display_name": "ai4fun",
   "language": "python",
   "name": "python3"
  },
  "language_info": {
   "codemirror_mode": {
    "name": "ipython",
    "version": 3
   },
   "file_extension": ".py",
   "mimetype": "text/x-python",
   "name": "python",
   "nbconvert_exporter": "python",
   "pygments_lexer": "ipython3",
   "version": "3.10.16"
  }
 },
 "nbformat": 4,
 "nbformat_minor": 2
}
